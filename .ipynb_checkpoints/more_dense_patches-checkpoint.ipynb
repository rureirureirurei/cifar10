{
 "cells": [
  {
   "cell_type": "markdown",
   "metadata": {
    "colab_type": "text",
    "id": "view-in-github"
   },
   "source": [
    "<a href=\"https://colab.research.google.com/github/marekpiotradamczyk/ml_uwr_22/blob/main/kmeans_deep_features.ipynb\" target=\"_parent\"><img src=\"https://colab.research.google.com/assets/colab-badge.svg\" alt=\"Open In Colab\"/></a>"
   ]
  },
  {
   "cell_type": "code",
   "execution_count": null,
   "metadata": {},
   "outputs": [],
   "source": [
    "# How it differs from the default solution? \n",
    "\n"
   ]
  },
  {
   "cell_type": "markdown",
   "metadata": {},
   "source": [
    "# Load data & default imports"
   ]
  },
  {
   "cell_type": "code",
   "execution_count": 15,
   "metadata": {
    "id": "T36fIpVCGGAt",
    "tags": []
   },
   "outputs": [],
   "source": [
    "import os\n",
    "import sys\n",
    "import numpy as np\n",
    "import pandas as pd\n",
    "import scipy.stats as sstats\n",
    "from sklearn import datasets\n",
    "import sklearn.linear_model\n",
    "from tqdm.auto import tqdm\n",
    "from matplotlib import animation, pyplot, rc\n",
    "import matplotlib.pyplot as plt\n",
    "import httpimport\n",
    "from PIL import Image"
   ]
  },
  {
   "cell_type": "code",
   "execution_count": 6,
   "metadata": {
    "id": "f6je-NQf810D",
    "jupyter": {
     "source_hidden": true
    },
    "tags": []
   },
   "outputs": [
    {
     "name": "stdout",
     "output_type": "stream",
     "text": [
      "Downloading...\n",
      "From: https://drive.google.com/uc?id=1oBzZdtg2zNTPGhbRy6DQ_wrf5L5OAhNR\n",
      "To: /Users/denys/dev/cifar/cifar.npz\n",
      "100%|████████████████████████████████████████| 185M/185M [00:07<00:00, 24.1MB/s]\n"
     ]
    }
   ],
   "source": [
    "!pip install -q gdown httpimport\n",
    "![ -e cifar.npz ] || gdown 'https://drive.google.com/uc?id=1oBzZdtg2zNTPGhbRy6DQ_wrf5L5OAhNR' -O cifar.npz"
   ]
  },
  {
   "cell_type": "code",
   "execution_count": 7,
   "metadata": {
    "id": "XVdY0QLv9dAv",
    "jupyter": {
     "source_hidden": true
    },
    "tags": []
   },
   "outputs": [],
   "source": [
    "with np.load('cifar.npz') as data:\n",
    "    cifar_train_data = data['train_data']\n",
    "    cifar_train_labels = data['train_labels']\n",
    "    cifar_test_data = data['test_data']\n",
    "    cifar_test_labels = data['test_labels']\n",
    "\n"
   ]
  },
  {
   "cell_type": "code",
   "execution_count": 8,
   "metadata": {
    "id": "GoayFo-HlVXf",
    "jupyter": {
     "source_hidden": true
    },
    "tags": []
   },
   "outputs": [],
   "source": [
    "X_trn = cifar_train_data\n",
    "y_trn = cifar_train_labels\n",
    "X_tst = cifar_test_data\n",
    "y_tst = cifar_test_labels"
   ]
  },
  {
   "cell_type": "markdown",
   "metadata": {
    "id": "krVBYnbQS5Z_"
   },
   "source": [
    "# Deep Features"
   ]
  },
  {
   "cell_type": "markdown",
   "metadata": {
    "id": "ifx-N_fsS5aA"
   },
   "source": [
    "## find important patterns in patches"
   ]
  },
  {
   "cell_type": "code",
   "execution_count": 10,
   "metadata": {
    "id": "Ur6yEjxWZOj-"
   },
   "outputs": [],
   "source": [
    "def contrast(image):\n",
    "    return (image-image.min())/(image.max() - image.min())"
   ]
  },
  {
   "cell_type": "code",
   "execution_count": 11,
   "metadata": {
    "id": "2-Ug1JOeS5aC"
   },
   "outputs": [],
   "source": [
    "def normalize_patch(patch, eps=10):\n",
    "    return (patch - patch.mean())/np.sqrt(patch.var() + eps)\n"
   ]
  },
  {
   "cell_type": "code",
   "execution_count": 12,
   "metadata": {
    "id": "lcUNa2rf1m8A"
   },
   "outputs": [],
   "source": [
    "def whiten(X):\n",
    "    X_norm = (X - X.mean(axis=0))/X.std(axis=0)\n",
    "    cov = np.cov(X_norm, rowvar=False) \n",
    "    U,S,V = np.linalg.svd(cov)\n",
    "\n",
    "    X_zca = U.dot(np.diag(1.0/np.sqrt(S + 0.1))).dot(U.T).dot(X_norm.T).T\n",
    "    return X_zca"
   ]
  },
  {
   "cell_type": "code",
   "execution_count": 17,
   "metadata": {
    "id": "Y40Ue8kc2VmM"
   },
   "outputs": [],
   "source": [
    "PATCH_SIZE = 4        # SMALLLER PATCHES\n",
    "patch_num  = 1000000  # MORE PATCHES\n",
    "STRIDE     = 2        # SMALLER STRIDE, THEREFORE MORE DENSE COVER"
   ]
  },
  {
   "cell_type": "code",
   "execution_count": 27,
   "metadata": {
    "id": "Fh1an_UgS5aI"
   },
   "outputs": [
    {
     "name": "stderr",
     "output_type": "stream",
     "text": [
      "  0%|                                | 131/1000000 [00:01<2:30:32, 110.69it/s]"
     ]
    },
    {
     "name": "stdout",
     "output_type": "stream",
     "text": [
      "100000\n"
     ]
    },
    {
     "name": "stderr",
     "output_type": "stream",
     "text": [
      "  0%|                                | 260/1000000 [00:02<2:33:48, 108.34it/s]"
     ]
    },
    {
     "name": "stdout",
     "output_type": "stream",
     "text": [
      "200000\n"
     ]
    },
    {
     "name": "stderr",
     "output_type": "stream",
     "text": [
      "  0%|                                | 376/1000000 [00:03<2:32:22, 109.34it/s]"
     ]
    },
    {
     "name": "stdout",
     "output_type": "stream",
     "text": [
      "300000\n"
     ]
    },
    {
     "name": "stderr",
     "output_type": "stream",
     "text": [
      "  0%|                                | 492/1000000 [00:04<2:31:49, 109.72it/s]"
     ]
    },
    {
     "name": "stdout",
     "output_type": "stream",
     "text": [
      "400000\n"
     ]
    },
    {
     "name": "stderr",
     "output_type": "stream",
     "text": [
      "  0%|                                | 609/1000000 [00:05<2:31:13, 110.15it/s]"
     ]
    },
    {
     "name": "stdout",
     "output_type": "stream",
     "text": [
      "500000\n"
     ]
    },
    {
     "name": "stderr",
     "output_type": "stream",
     "text": [
      "  0%|                                | 729/1000000 [00:06<2:31:17, 110.09it/s]"
     ]
    },
    {
     "name": "stdout",
     "output_type": "stream",
     "text": [
      "600000\n"
     ]
    },
    {
     "name": "stderr",
     "output_type": "stream",
     "text": [
      "  0%|                                | 847/1000000 [00:07<2:29:27, 111.43it/s]"
     ]
    },
    {
     "name": "stdout",
     "output_type": "stream",
     "text": [
      "700000\n"
     ]
    },
    {
     "name": "stderr",
     "output_type": "stream",
     "text": [
      "  0%|                                | 967/1000000 [00:08<2:29:01, 111.73it/s]"
     ]
    },
    {
     "name": "stdout",
     "output_type": "stream",
     "text": [
      "800000\n"
     ]
    },
    {
     "name": "stderr",
     "output_type": "stream",
     "text": [
      "  0%|                               | 1087/1000000 [00:09<2:28:53, 111.82it/s]"
     ]
    },
    {
     "name": "stdout",
     "output_type": "stream",
     "text": [
      "900000\n"
     ]
    },
    {
     "name": "stderr",
     "output_type": "stream",
     "text": [
      "  0%|                               | 1189/1000000 [00:10<2:30:59, 110.25it/s]"
     ]
    },
    {
     "name": "stdout",
     "output_type": "stream",
     "text": [
      "1000000\n",
      "Done!\n"
     ]
    },
    {
     "name": "stderr",
     "output_type": "stream",
     "text": [
      "\n"
     ]
    }
   ],
   "source": [
    "patches = []\n",
    "\n",
    "X_trn_reshaped = X_trn.reshape(-1,32,32,3)\n",
    "\n",
    "for i in range(patch_num):\n",
    "    for r in range(32-PATCH_SIZE+1):\n",
    "        for c in range(32-PATCH_SIZE+1):\n",
    "            patch = X_trn_reshaped[i][c:(c+PATCH_SIZE),r:(r+PATCH_SIZE)].flatten()\n",
    "            patch_norm = normalize_patch(patch, eps=10)\n",
    "            patches.append(patch_norm)\n",
    "            if len(patches) % 100000 == 0:\n",
    "                print(len(patches))\n",
    "    if len(patches) >= patch_num:\n",
    "        break\n",
    "\n",
    "print(\"Done!\")"
   ]
  },
  {
   "cell_type": "code",
   "execution_count": 22,
   "metadata": {
    "colab": {
     "base_uri": "https://localhost:8080/"
    },
    "id": "H6yZnvIL7ss3",
    "outputId": "21f380f1-0b73-44a7-eb72-86bdfe215809"
   },
   "outputs": [
    {
     "data": {
      "text/plain": [
       "(1000790, 48)"
      ]
     },
     "execution_count": 22,
     "metadata": {},
     "output_type": "execute_result"
    }
   ],
   "source": [
    "P = np.vstack(patches)\n",
    "P_zca = whiten(P)"
   ]
  },
  {
   "cell_type": "markdown",
   "metadata": {},
   "source": [
    "# Clusters"
   ]
  },
  {
   "cell_type": "code",
   "execution_count": 26,
   "metadata": {
    "id": "wPvJkqi89B9a"
   },
   "outputs": [],
   "source": [
    "kroot = 16\n",
    "k = kroot*kroot"
   ]
  },
  {
   "cell_type": "code",
   "execution_count": 27,
   "metadata": {
    "colab": {
     "base_uri": "https://localhost:8080/"
    },
    "id": "zR_rrRlf7YfL",
    "outputId": "5aeaa079-7667-45c6-ae17-4c9510a9d443",
    "tags": []
   },
   "outputs": [
    {
     "name": "stdout",
     "output_type": "stream",
     "text": [
      "Init 1/1 with method k-means++\n",
      "Inertia for init 1/1: 450959.8593846854\n",
      "[MiniBatchKMeans] Reassigning 9 cluster centers.\n",
      "Minibatch step 1/20015: mean batch inertia: 14.98315510146144\n",
      "[MiniBatchKMeans] Reassigning 5 cluster centers.\n",
      "Minibatch step 2/20015: mean batch inertia: 13.478464989976846, ewa inertia: 13.478464989976846\n",
      "[MiniBatchKMeans] Reassigning 1 cluster centers.\n",
      "Minibatch step 3/20015: mean batch inertia: 13.199475055044674, ewa inertia: 13.472889601410559\n",
      "Minibatch step 4/20015: mean batch inertia: 13.092389749776968, ewa inertia: 13.465285619127874\n",
      "Minibatch step 5/20015: mean batch inertia: 13.1286186684535, ewa inertia: 13.458557601975954\n",
      "Minibatch step 6/20015: mean batch inertia: 12.873415947754966, ewa inertia: 13.44686401851605\n",
      "Minibatch step 7/20015: mean batch inertia: 12.892793789640809, ewa inertia: 13.435791372401622\n",
      "Minibatch step 8/20015: mean batch inertia: 12.953167849882572, ewa inertia: 13.426146531020775\n",
      "Minibatch step 9/20015: mean batch inertia: 12.978609040084386, ewa inertia: 13.417202855649267\n",
      "Minibatch step 10/20015: mean batch inertia: 12.98546464913652, ewa inertia: 13.408574916219102\n",
      "Minibatch step 11/20015: mean batch inertia: 12.879227090052902, ewa inertia: 13.397996327359566\n",
      "Minibatch step 12/20015: mean batch inertia: 12.734654818115509, ewa inertia: 13.384739982943119\n",
      "Minibatch step 13/20015: mean batch inertia: 12.963167319929154, ewa inertia: 13.376315193691138\n",
      "Minibatch step 14/20015: mean batch inertia: 12.618710005419503, ewa inertia: 13.361175065766894\n",
      "Minibatch step 15/20015: mean batch inertia: 12.859393154746863, ewa inertia: 13.35114735946218\n",
      "Minibatch step 16/20015: mean batch inertia: 12.812948260454856, ewa inertia: 13.340391885062283\n",
      "Minibatch step 17/20015: mean batch inertia: 12.889602924234284, ewa inertia: 13.331383231690541\n",
      "Minibatch step 18/20015: mean batch inertia: 13.008588104597038, ewa inertia: 13.324932431731439\n",
      "Minibatch step 19/20015: mean batch inertia: 12.713751539419949, ewa inertia: 13.312718475124885\n",
      "Minibatch step 20/20015: mean batch inertia: 12.727438643002635, ewa inertia: 13.301022130291205\n",
      "Minibatch step 21/20015: mean batch inertia: 12.812208399526382, ewa inertia: 13.291253582597136\n",
      "Minibatch step 22/20015: mean batch inertia: 12.729397818543248, ewa inertia: 13.280025348848953\n",
      "Minibatch step 23/20015: mean batch inertia: 12.787813262414646, ewa inertia: 13.270188887760987\n",
      "Minibatch step 24/20015: mean batch inertia: 12.735971612946768, ewa inertia: 13.259512986902283\n",
      "Minibatch step 25/20015: mean batch inertia: 12.803174262748913, ewa inertia: 13.250393425991897\n",
      "Minibatch step 26/20015: mean batch inertia: 12.754358226107778, ewa inertia: 13.240480563068786\n",
      "Minibatch step 27/20015: mean batch inertia: 12.99285089388588, ewa inertia: 13.2355318840902\n",
      "Minibatch step 28/20015: mean batch inertia: 12.773098320932352, ewa inertia: 13.22629052274387\n",
      "Minibatch step 29/20015: mean batch inertia: 12.648541178728891, ewa inertia: 13.214744668634172\n",
      "Minibatch step 30/20015: mean batch inertia: 12.844234410672295, ewa inertia: 13.207340320314454\n",
      "Minibatch step 31/20015: mean batch inertia: 12.779756126422901, ewa inertia: 13.198795395472175\n",
      "Minibatch step 32/20015: mean batch inertia: 12.638763358489475, ewa inertia: 13.187603607436856\n",
      "Minibatch step 33/20015: mean batch inertia: 12.777663448906306, ewa inertia: 13.179411284393773\n",
      "Minibatch step 34/20015: mean batch inertia: 12.798755939709174, ewa inertia: 13.171804194708022\n",
      "Minibatch step 35/20015: mean batch inertia: 12.740110398447618, ewa inertia: 13.163177142780889\n",
      "Minibatch step 36/20015: mean batch inertia: 12.715450510479965, ewa inertia: 13.15422968757194\n",
      "Minibatch step 37/20015: mean batch inertia: 12.483698273325848, ewa inertia: 13.140829658709848\n",
      "Minibatch step 38/20015: mean batch inertia: 12.702814726311011, ewa inertia: 13.132076283981283\n",
      "Minibatch step 39/20015: mean batch inertia: 12.588769218835726, ewa inertia: 13.121218731002777\n",
      "Minibatch step 40/20015: mean batch inertia: 12.728514515812236, ewa inertia: 13.113370854369384\n",
      "Minibatch step 41/20015: mean batch inertia: 12.644474148133499, ewa inertia: 13.104000332327601\n",
      "Minibatch step 42/20015: mean batch inertia: 12.707221251676424, ewa inertia: 13.096071022798416\n",
      "Minibatch step 43/20015: mean batch inertia: 12.554900980058827, ewa inertia: 13.085256176487057\n",
      "Minibatch step 44/20015: mean batch inertia: 12.877461053431514, ewa inertia: 13.081103558746578\n",
      "Minibatch step 45/20015: mean batch inertia: 12.647444399857068, ewa inertia: 13.072437230634325\n",
      "Minibatch step 46/20015: mean batch inertia: 12.641832070358918, ewa inertia: 13.063831934218284\n",
      "Minibatch step 47/20015: mean batch inertia: 12.621426401868721, ewa inertia: 13.054990816895094\n",
      "Minibatch step 48/20015: mean batch inertia: 12.623640162909409, ewa inertia: 13.046370622389235\n",
      "Minibatch step 49/20015: mean batch inertia: 12.621317852997862, ewa inertia: 13.037876286021474\n",
      "Minibatch step 50/20015: mean batch inertia: 12.847043913033348, ewa inertia: 13.034062655143735\n",
      "Minibatch step 51/20015: mean batch inertia: 12.846696484447186, ewa inertia: 13.03031829351985\n",
      "Minibatch step 52/20015: mean batch inertia: 12.450428601101047, ewa inertia: 13.018729666275624\n",
      "Minibatch step 53/20015: mean batch inertia: 12.794874607490751, ewa inertia: 13.014256103687934\n",
      "Minibatch step 54/20015: mean batch inertia: 12.747677757434724, ewa inertia: 13.008928750699084\n",
      "Minibatch step 55/20015: mean batch inertia: 12.679756828916792, ewa inertia: 13.002350515647365\n",
      "Minibatch step 56/20015: mean batch inertia: 12.764192596980683, ewa inertia: 12.997591121954443\n",
      "Minibatch step 57/20015: mean batch inertia: 12.613865846732113, ewa inertia: 12.989922682185854\n",
      "Minibatch step 58/20015: mean batch inertia: 12.864340091416906, ewa inertia: 12.987413015516811\n",
      "Minibatch step 59/20015: mean batch inertia: 12.590055385164073, ewa inertia: 12.979472144139017\n",
      "Minibatch step 60/20015: mean batch inertia: 12.478674061138864, ewa inertia: 12.969464098842844\n",
      "Minibatch step 61/20015: mean batch inertia: 12.759196823876424, ewa inertia: 12.96526207714268\n",
      "Minibatch step 62/20015: mean batch inertia: 12.658130948226654, ewa inertia: 12.959124309538534\n",
      "Minibatch step 63/20015: mean batch inertia: 12.78525863952807, ewa inertia: 12.955649744519256\n",
      "Minibatch step 64/20015: mean batch inertia: 12.723961033161986, ewa inertia: 12.951019632710553\n",
      "Minibatch step 65/20015: mean batch inertia: 12.652028077171646, ewa inertia: 12.945044527907674\n",
      "Minibatch step 66/20015: mean batch inertia: 12.795277998215335, ewa inertia: 12.942051564747688\n",
      "Minibatch step 67/20015: mean batch inertia: 12.76950300297878, ewa inertia: 12.938603321073057\n",
      "Minibatch step 68/20015: mean batch inertia: 12.568798546039895, ewa inertia: 12.931213071259995\n",
      "Minibatch step 69/20015: mean batch inertia: 12.531979878071347, ewa inertia: 12.923234718273436\n",
      "Minibatch step 70/20015: mean batch inertia: 12.771513303810295, ewa inertia: 12.920202688319868\n",
      "Minibatch step 71/20015: mean batch inertia: 12.645523482282808, ewa inertia: 12.914713446189651\n",
      "Minibatch step 72/20015: mean batch inertia: 12.656620986748987, ewa inertia: 12.909555676796428\n",
      "Minibatch step 73/20015: mean batch inertia: 12.6936521691169, ewa inertia: 12.90524101953673\n",
      "Minibatch step 74/20015: mean batch inertia: 12.628508545593295, ewa inertia: 12.89971074450541\n",
      "Minibatch step 75/20015: mean batch inertia: 12.767956478645303, ewa inertia: 12.897077741893275\n",
      "Minibatch step 76/20015: mean batch inertia: 12.669799837412684, ewa inertia: 12.89253577649829\n",
      "Minibatch step 77/20015: mean batch inertia: 12.760963920522874, ewa inertia: 12.889906419200404\n",
      "Minibatch step 78/20015: mean batch inertia: 12.744868546960108, ewa inertia: 12.887007954441223\n",
      "Minibatch step 79/20015: mean batch inertia: 12.640010722817324, ewa inertia: 12.882071914216564\n",
      "Minibatch step 80/20015: mean batch inertia: 12.574979766315664, ewa inertia: 12.875934925616528\n",
      "Minibatch step 81/20015: mean batch inertia: 12.696562733403171, ewa inertia: 12.87235031719752\n",
      "Minibatch step 82/20015: mean batch inertia: 12.903749219210344, ewa inertia: 12.87297779889975\n",
      "Minibatch step 83/20015: mean batch inertia: 12.687832513912255, ewa inertia: 12.869277819883404\n",
      "Minibatch step 84/20015: mean batch inertia: 12.572021309660272, ewa inertia: 12.863337388560119\n",
      "Minibatch step 85/20015: mean batch inertia: 12.675561143508524, ewa inertia: 12.85958483193138\n",
      "Minibatch step 86/20015: mean batch inertia: 12.9398992817532, ewa inertia: 12.86118985135745\n",
      "Minibatch step 87/20015: mean batch inertia: 12.618307081643634, ewa inertia: 12.85633603533165\n",
      "Minibatch step 88/20015: mean batch inertia: 12.654762506799463, ewa inertia: 12.852307751133807\n",
      "Minibatch step 89/20015: mean batch inertia: 12.598824403582956, ewa inertia: 12.847242091119861\n",
      "Minibatch step 90/20015: mean batch inertia: 12.653709107169936, ewa inertia: 12.843374490712787\n",
      "Minibatch step 91/20015: mean batch inertia: 12.72101121063974, ewa inertia: 12.84092915936842\n",
      "Minibatch step 92/20015: mean batch inertia: 12.664161154829909, ewa inertia: 12.837396593537221\n",
      "Minibatch step 93/20015: mean batch inertia: 12.842090340029346, ewa inertia: 12.837490394270684\n",
      "Minibatch step 94/20015: mean batch inertia: 12.658031173407563, ewa inertia: 12.833904046654387\n",
      "Minibatch step 95/20015: mean batch inertia: 12.710476792662734, ewa inertia: 12.83143745265041\n",
      "Minibatch step 96/20015: mean batch inertia: 12.507438309227032, ewa inertia: 12.824962591397194\n",
      "Minibatch step 97/20015: mean batch inertia: 12.643483013911787, ewa inertia: 12.821335868585232\n",
      "Minibatch step 98/20015: mean batch inertia: 12.685968481648903, ewa inertia: 12.81863066066597\n",
      "Minibatch step 99/20015: mean batch inertia: 12.50710157334168, ewa inertia: 12.812405003414371\n",
      "Minibatch step 100/20015: mean batch inertia: 12.601291256472651, ewa inertia: 12.808186065655304\n",
      "Minibatch step 101/20015: mean batch inertia: 12.761419210205347, ewa inertia: 12.807251467813199\n",
      "Minibatch step 102/20015: mean batch inertia: 12.687423145697089, ewa inertia: 12.804856795556631\n",
      "Minibatch step 103/20015: mean batch inertia: 12.661960776374977, ewa inertia: 12.80200113400129\n",
      "Minibatch step 104/20015: mean batch inertia: 12.852892929942895, ewa inertia: 12.803018165448249\n",
      "Minibatch step 105/20015: mean batch inertia: 12.632662625435412, ewa inertia: 12.799613747542557\n",
      "Minibatch step 106/20015: mean batch inertia: 12.848806885767935, ewa inertia: 12.800596832686715\n",
      "Minibatch step 107/20015: mean batch inertia: 12.60058476918816, ewa inertia: 12.796599753106692\n",
      "Minibatch step 108/20015: mean batch inertia: 12.643863650351221, ewa inertia: 12.793547445426958\n",
      "Minibatch step 109/20015: mean batch inertia: 12.469041750583129, ewa inertia: 12.787062461152644\n",
      "Minibatch step 110/20015: mean batch inertia: 12.57512521975036, ewa inertia: 12.782827066521751\n",
      "Minibatch step 111/20015: mean batch inertia: 12.558002285126703, ewa inertia: 12.778334124810744\n",
      "Minibatch step 112/20015: mean batch inertia: 12.643225424980923, ewa inertia: 12.775634086544416\n",
      "Minibatch step 113/20015: mean batch inertia: 12.33933257375147, ewa inertia: 12.766914953123093\n",
      "Minibatch step 114/20015: mean batch inertia: 12.495654770616158, ewa inertia: 12.761494037417277\n",
      "Minibatch step 115/20015: mean batch inertia: 12.526907704884492, ewa inertia: 12.756806018989199\n",
      "Minibatch step 116/20015: mean batch inertia: 12.657797823403069, ewa inertia: 12.754827420149159\n",
      "Minibatch step 117/20015: mean batch inertia: 12.672903994004795, ewa inertia: 12.753190246630526\n",
      "Minibatch step 118/20015: mean batch inertia: 12.70492883049677, ewa inertia: 12.752225781200005\n",
      "Minibatch step 119/20015: mean batch inertia: 12.47342581644623, ewa inertia: 12.746654189034333\n",
      "Minibatch step 120/20015: mean batch inertia: 12.648641217742602, ewa inertia: 12.744695478948175\n",
      "Minibatch step 121/20015: mean batch inertia: 12.784765940397993, ewa inertia: 12.745496254763502\n",
      "Minibatch step 122/20015: mean batch inertia: 12.703712446554777, ewa inertia: 12.744661239096722\n",
      "Minibatch step 123/20015: mean batch inertia: 12.537159977142569, ewa inertia: 12.740514493933063\n",
      "Minibatch step 124/20015: mean batch inertia: 12.759317429043925, ewa inertia: 12.740890255407953\n",
      "Minibatch step 125/20015: mean batch inertia: 12.675226346900732, ewa inertia: 12.739578015219799\n",
      "Minibatch step 126/20015: mean batch inertia: 12.339723133556298, ewa inertia: 12.731587238291079\n",
      "Minibatch step 127/20015: mean batch inertia: 12.61197948668677, ewa inertia: 12.72919697395808\n",
      "Minibatch step 128/20015: mean batch inertia: 12.559849457244892, ewa inertia: 12.725812700584054\n",
      "Minibatch step 129/20015: mean batch inertia: 12.531438006055566, ewa inertia: 12.721928279270744\n",
      "Minibatch step 130/20015: mean batch inertia: 12.56414151013185, ewa inertia: 12.71877503810173\n",
      "Minibatch step 131/20015: mean batch inertia: 12.626422693138043, ewa inertia: 12.716929451061805\n",
      "Minibatch step 132/20015: mean batch inertia: 12.571903024268497, ewa inertia: 12.714031215030639\n",
      "Minibatch step 133/20015: mean batch inertia: 12.712045780245171, ewa inertia: 12.713991537719684\n",
      "Minibatch step 134/20015: mean batch inertia: 12.527482205295199, ewa inertia: 12.710264299316771\n",
      "Minibatch step 135/20015: mean batch inertia: 12.464670165281591, ewa inertia: 12.705356298864425\n",
      "Minibatch step 136/20015: mean batch inertia: 12.770085675332497, ewa inertia: 12.70664986318441\n",
      "Minibatch step 137/20015: mean batch inertia: 12.547327020929924, ewa inertia: 12.703465924834555\n",
      "Minibatch step 138/20015: mean batch inertia: 12.628544917978662, ewa inertia: 12.701968689010974\n",
      "Minibatch step 139/20015: mean batch inertia: 12.65878943989639, ewa inertia: 12.7011057865845\n",
      "Minibatch step 140/20015: mean batch inertia: 12.702020571042501, ewa inertia: 12.70112406781321\n",
      "Minibatch step 141/20015: mean batch inertia: 12.754294760334217, ewa inertia: 12.702186641168106\n",
      "Minibatch step 142/20015: mean batch inertia: 12.69899214233945, ewa inertia: 12.702122801688562\n",
      "Minibatch step 143/20015: mean batch inertia: 12.497782092348888, ewa inertia: 12.698039217616769\n",
      "Minibatch step 144/20015: mean batch inertia: 12.529332528440364, ewa inertia: 12.694667750663601\n",
      "Minibatch step 145/20015: mean batch inertia: 12.617421513602181, ewa inertia: 12.693124046991977\n",
      "Minibatch step 146/20015: mean batch inertia: 12.614855994587435, ewa inertia: 12.691559923165833\n",
      "Minibatch step 147/20015: mean batch inertia: 12.676357316376645, ewa inertia: 12.6912561113452\n",
      "Minibatch step 148/20015: mean batch inertia: 12.793143480076925, ewa inertia: 12.693292248135634\n",
      "Minibatch step 149/20015: mean batch inertia: 12.675342363100128, ewa inertia: 12.692933534177666\n",
      "Minibatch step 150/20015: mean batch inertia: 12.613450255597765, ewa inertia: 12.691345125037698\n",
      "Minibatch step 151/20015: mean batch inertia: 12.772035815650982, ewa inertia: 12.692957663332173\n",
      "Minibatch step 152/20015: mean batch inertia: 12.606304525432018, ewa inertia: 12.691225970343325\n",
      "Minibatch step 153/20015: mean batch inertia: 12.54848563980597, ewa inertia: 12.68837342009982\n",
      "Minibatch step 154/20015: mean batch inertia: 12.634625103799035, ewa inertia: 12.687299303400115\n",
      "Minibatch step 155/20015: mean batch inertia: 12.5946094311071, ewa inertia: 12.685446971149066\n",
      "Minibatch step 156/20015: mean batch inertia: 12.708000558599453, ewa inertia: 12.685897686382324\n",
      "Minibatch step 157/20015: mean batch inertia: 12.714043408769955, ewa inertia: 12.686460155916675\n",
      "Minibatch step 158/20015: mean batch inertia: 12.8355949830686, ewa inertia: 12.68944049501149\n",
      "Minibatch step 159/20015: mean batch inertia: 12.595705854035511, ewa inertia: 12.68756728390196\n",
      "Minibatch step 160/20015: mean batch inertia: 12.641250300858097, ewa inertia: 12.686641676396619\n",
      "Minibatch step 161/20015: mean batch inertia: 12.593532544307688, ewa inertia: 12.684780965577099\n",
      "Minibatch step 162/20015: mean batch inertia: 12.613639218968244, ewa inertia: 12.683359255217816\n",
      "Minibatch step 163/20015: mean batch inertia: 12.71540880265183, ewa inertia: 12.683999739543395\n",
      "Minibatch step 164/20015: mean batch inertia: 12.694923116303768, ewa inertia: 12.684218034407365\n",
      "Minibatch step 165/20015: mean batch inertia: 12.547132048223403, ewa inertia: 12.681478481669902\n",
      "Minibatch step 166/20015: mean batch inertia: 12.554785522756543, ewa inertia: 12.678946625190111\n",
      "Minibatch step 167/20015: mean batch inertia: 12.698936124315779, ewa inertia: 12.679346099188692\n",
      "Minibatch step 168/20015: mean batch inertia: 12.467457903048293, ewa inertia: 12.675111684687755\n",
      "Minibatch step 169/20015: mean batch inertia: 12.769040027750012, ewa inertia: 12.676988766777066\n",
      "Minibatch step 170/20015: mean batch inertia: 12.6116888251451, ewa inertia: 12.67568380017301\n",
      "Minibatch step 171/20015: mean batch inertia: 12.587474152561219, ewa inertia: 12.67392100159445\n",
      "Minibatch step 172/20015: mean batch inertia: 12.620515775687327, ewa inertia: 12.672853741279217\n",
      "Minibatch step 173/20015: mean batch inertia: 12.547305615948796, ewa inertia: 12.670344763374134\n",
      "Minibatch step 174/20015: mean batch inertia: 12.543111925884359, ewa inertia: 12.667802117856944\n",
      "Minibatch step 175/20015: mean batch inertia: 12.569422696576586, ewa inertia: 12.665836084563672\n",
      "Minibatch step 176/20015: mean batch inertia: 12.682952626350094, ewa inertia: 12.666178144829729\n",
      "Minibatch step 177/20015: mean batch inertia: 12.552842664199202, ewa inertia: 12.663913226767306\n",
      "Minibatch step 178/20015: mean batch inertia: 12.407287825691151, ewa inertia: 12.658784775350854\n",
      "Minibatch step 179/20015: mean batch inertia: 12.655737449280714, ewa inertia: 12.658723877000048\n",
      "Minibatch step 180/20015: mean batch inertia: 12.585223076486031, ewa inertia: 12.657255022853398\n",
      "Minibatch step 181/20015: mean batch inertia: 12.631309251970318, ewa inertia: 12.656736517573414\n",
      "Minibatch step 182/20015: mean batch inertia: 12.60501280857129, ewa inertia: 12.65570286101571\n",
      "Minibatch step 183/20015: mean batch inertia: 12.617881849872608, ewa inertia: 12.654947038648341\n",
      "Minibatch step 184/20015: mean batch inertia: 12.683272888681822, ewa inertia: 12.655513107888241\n",
      "Minibatch step 185/20015: mean batch inertia: 12.400505107676508, ewa inertia: 12.650416978922019\n",
      "Minibatch step 186/20015: mean batch inertia: 12.584129909670347, ewa inertia: 12.649092285369585\n",
      "Minibatch step 187/20015: mean batch inertia: 12.698837967552027, ewa inertia: 12.650086412658549\n",
      "Minibatch step 188/20015: mean batch inertia: 12.61970059074508, ewa inertia: 12.649479176544048\n",
      "Minibatch step 189/20015: mean batch inertia: 12.569567852331678, ewa inertia: 12.64788221325776\n",
      "Minibatch step 190/20015: mean batch inertia: 12.49471669773324, ewa inertia: 12.644821324110586\n",
      "Minibatch step 191/20015: mean batch inertia: 12.646935946684703, ewa inertia: 12.64486358313518\n",
      "Minibatch step 192/20015: mean batch inertia: 12.824726530911276, ewa inertia: 12.648457998907826\n",
      "Minibatch step 193/20015: mean batch inertia: 12.676656774315008, ewa inertia: 12.649021528663933\n",
      "Minibatch step 194/20015: mean batch inertia: 12.659492561805665, ewa inertia: 12.649230783805951\n",
      "Minibatch step 195/20015: mean batch inertia: 12.658138188052664, ewa inertia: 12.649408791087126\n",
      "Minibatch step 196/20015: mean batch inertia: 12.719285553611048, ewa inertia: 12.65080522176094\n",
      "Minibatch step 197/20015: mean batch inertia: 12.718789215397223, ewa inertia: 12.65216382697694\n",
      "Minibatch step 198/20015: mean batch inertia: 12.608013119245468, ewa inertia: 12.651281510734458\n",
      "Minibatch step 199/20015: mean batch inertia: 12.563373886135151, ewa inertia: 12.649524747841921\n",
      "Minibatch step 200/20015: mean batch inertia: 12.677482237932734, ewa inertia: 12.650083455705817\n",
      "Converged (lack of improvement in inertia) at step 200/20015\n"
     ]
    },
    {
     "data": {
      "text/plain": [
       "array([[ 0.14222536,  0.36211942, -0.27262611, ...,  0.43261444,\n",
       "         0.71349216, -0.20196903],\n",
       "       [ 0.272288  ,  0.28599981,  0.34276708, ...,  0.21279491,\n",
       "         0.24887226,  0.38089255],\n",
       "       [ 0.05226896, -0.20149974,  0.12568901, ..., -0.03864519,\n",
       "         0.41419189, -0.50734431],\n",
       "       ...,\n",
       "       [ 0.65532694,  0.72854747,  0.60294978, ...,  0.03079274,\n",
       "        -0.03002095, -0.0248214 ],\n",
       "       [-0.00651118,  0.15903488,  0.37014659, ..., -0.07843439,\n",
       "         0.12570746,  0.4495836 ],\n",
       "       [-0.39078334, -0.50727402, -0.41144376, ...,  0.42162121,\n",
       "         0.47255575,  0.52072806]])"
      ]
     },
     "execution_count": 27,
     "metadata": {},
     "output_type": "execute_result"
    }
   ],
   "source": [
    "from sklearn.cluster import KMeans, MiniBatchKMeans\n",
    "import numpy as np\n",
    "kmeans = MiniBatchKMeans(n_clusters=k, random_state=0, verbose=False, n_init=1, max_iter=200, batch_size=10000)\n",
    "kmeans.fit(P_zca)\n",
    "kmeans.labels_\n",
    "kmeans.cluster_centers_\n"
   ]
  },
  {
   "cell_type": "code",
   "execution_count": 28,
   "metadata": {
    "colab": {
     "base_uri": "https://localhost:8080/"
    },
    "id": "n38_AqsDS5aM",
    "outputId": "06f8944b-9e2a-4120-adb0-8c5f7800b537"
   },
   "outputs": [
    {
     "data": {
      "text/plain": [
       "(256, 48)"
      ]
     },
     "execution_count": 28,
     "metadata": {},
     "output_type": "execute_result"
    }
   ],
   "source": [
    "filters_final = kmeans.cluster_centers_\n",
    "filters_final.shape"
   ]
  },
  {
   "cell_type": "markdown",
   "metadata": {},
   "source": [
    "# Some intuition what the patches are"
   ]
  },
  {
   "cell_type": "code",
   "execution_count": 9,
   "metadata": {
    "colab": {
     "base_uri": "https://localhost:8080/",
     "height": 901
    },
    "id": "WxUoByYt86un",
    "outputId": "4e967e07-34f5-46a3-faad-2a50a77cc488"
   },
   "outputs": [
    {
     "ename": "NameError",
     "evalue": "name 'kroot' is not defined",
     "output_type": "error",
     "traceback": [
      "\u001b[0;31m---------------------------------------------------------------------------\u001b[0m",
      "\u001b[0;31mNameError\u001b[0m                                 Traceback (most recent call last)",
      "Cell \u001b[0;32mIn[9], line 1\u001b[0m\n\u001b[0;32m----> 1\u001b[0m plt\u001b[38;5;241m.\u001b[39mfigure(figsize\u001b[38;5;241m=\u001b[39m(\u001b[43mkroot\u001b[49m,kroot))\n\u001b[1;32m      2\u001b[0m \u001b[38;5;28;01mfor\u001b[39;00m xx \u001b[38;5;129;01min\u001b[39;00m \u001b[38;5;28mrange\u001b[39m(k):\n\u001b[1;32m      3\u001b[0m     plt\u001b[38;5;241m.\u001b[39msubplot(kroot,kroot,xx\u001b[38;5;241m+\u001b[39m\u001b[38;5;241m1\u001b[39m)\n",
      "\u001b[0;31mNameError\u001b[0m: name 'kroot' is not defined"
     ]
    }
   ],
   "source": [
    "plt.figure(figsize=(kroot,kroot))\n",
    "for xx in range(k):\n",
    "    plt.subplot(kroot,kroot,xx+1)\n",
    "    plt.imshow((contrast(filters_final[xx])).reshape(PATCH_SIZE, PATCH_SIZE, 3))\n",
    "    plt.axis('off')\n",
    "    "
   ]
  },
  {
   "cell_type": "markdown",
   "metadata": {
    "id": "qArR1kv7-j3H"
   },
   "source": [
    "# Transform dataset according to the patterns found in patches\n",
    "\n",
    "\n"
   ]
  },
  {
   "cell_type": "code",
   "execution_count": 30,
   "metadata": {
    "id": "_hIoR0m4-6jZ"
   },
   "outputs": [],
   "source": [
    "def dist(x,y):\n",
    "  return np.sqrt((x - y).dot(x-y))\n",
    "  #return (x-y).dot(x-y)\n",
    "    \n",
    "def create_patch_features(X):    \n",
    "    X_mapped_list_per_image = []\n",
    "    for i in range(X.shape[0]):\n",
    "      if i % 1000 == 0:\n",
    "        print(i,\"/\", X.shape[0])\n",
    "        \n",
    "      mapped_features = []\n",
    "      for r in range(0, 32-PATCH_SIZE+1, STRIDE):\n",
    "        for c in range(0, 32-PATCH_SIZE+1, STRIDE):\n",
    "          patch = X[i].reshape(32,32,3)[c:(c+PATCH_SIZE),r:(r+PATCH_SIZE)].flatten()\n",
    "          patch_norm = normalize_patch(patch, eps=0.01)\n",
    "          mapped_features.append([dist(patch_norm, f) for f in filters_final])\n",
    "      X_mapped_list_per_image.append(np.vstack(mapped_features))\n",
    "    X_mapped = np.asarray(X_mapped_list_per_image).reshape(-1, ((32-PATCH_SIZE)//STRIDE+1)**2*filters_final.shape[0])\n",
    "    return X_mapped"
   ]
  },
  {
   "cell_type": "code",
   "execution_count": 31,
   "metadata": {
    "id": "OF9ryTgRS5aO"
   },
   "outputs": [],
   "source": [
    "from sklearn.feature_extraction import image\n",
    "from sklearn.metrics import pairwise_distances\n",
    "from sklearn.metrics.pairwise import euclidean_distances\n",
    "\n",
    "def create_patch_features__vectorized(X):    \n",
    "    X_mapped_list_per_image = []\n",
    "    for i in range(X.shape[0]):\n",
    "        if i % 5000 == 0:\n",
    "            print(i,\"/\", X.shape[0])\n",
    "        patches = image.extract_patches_2d(X[i], (PATCH_SIZE, PATCH_SIZE))\n",
    "        strided_patches = patches.reshape( 32-PATCH_SIZE+1 , 32-PATCH_SIZE+1, PATCH_SIZE, PATCH_SIZE, 3)[::STRIDE,::STRIDE,:,:,:]\n",
    "        strided_patches = strided_patches.reshape(((32-PATCH_SIZE)//STRIDE+1)**2, PATCH_SIZE * PATCH_SIZE * 3)\n",
    "        mapped_features = euclidean_distances(np.asarray([normalize_patch(patch, eps=0.01) for patch in strided_patches]), filters_final)\n",
    "        X_mapped_list_per_image.append(mapped_features.reshape(((32-PATCH_SIZE)//STRIDE+1)**2 * filters_final.shape[0]))\n",
    "    X_mapped = np.asarray(X_mapped_list_per_image)\n",
    "    return X_mapped"
   ]
  },
  {
   "cell_type": "code",
   "execution_count": 32,
   "metadata": {
    "colab": {
     "base_uri": "https://localhost:8080/"
    },
    "id": "Cm7-PrElCWp_",
    "outputId": "10a21f52-9390-4148-dbde-cd6c69b969a7"
   },
   "outputs": [
    {
     "name": "stdout",
     "output_type": "stream",
     "text": [
      "0 / 50000\n",
      "5000 / 50000\n",
      "10000 / 50000\n",
      "15000 / 50000\n",
      "20000 / 50000\n",
      "25000 / 50000\n",
      "30000 / 50000\n",
      "35000 / 50000\n",
      "40000 / 50000\n",
      "45000 / 50000\n"
     ]
    }
   ],
   "source": [
    "X_mapped_trn = create_patch_features__vectorized(X_trn)"
   ]
  },
  {
   "cell_type": "code",
   "execution_count": 33,
   "metadata": {
    "colab": {
     "base_uri": "https://localhost:8080/"
    },
    "id": "QAo1fOJEFLkn",
    "outputId": "c4d4dc21-84b9-4fb6-984d-a11c777edd3c",
    "scrolled": true
   },
   "outputs": [
    {
     "data": {
      "text/plain": [
       "(50000, 16384)"
      ]
     },
     "execution_count": 33,
     "metadata": {},
     "output_type": "execute_result"
    }
   ],
   "source": [
    "X_mapped_trn.shape"
   ]
  },
  {
   "cell_type": "code",
   "execution_count": 34,
   "metadata": {
    "colab": {
     "base_uri": "https://localhost:8080/"
    },
    "id": "mGs3oSc6S5aP",
    "outputId": "4ad6b8bd-50df-42a7-96bd-b07edb25ecdd"
   },
   "outputs": [
    {
     "name": "stdout",
     "output_type": "stream",
     "text": [
      "0 / 10000\n",
      "5000 / 10000\n"
     ]
    }
   ],
   "source": [
    "X_mapped_tst = create_patch_features__vectorized(X_tst)"
   ]
  },
  {
   "cell_type": "code",
   "execution_count": 35,
   "metadata": {
    "colab": {
     "base_uri": "https://localhost:8080/"
    },
    "id": "LW52qPuvS5aQ",
    "outputId": "7b5aefd2-6ddb-416e-fe3e-31b063d0da0d"
   },
   "outputs": [
    {
     "data": {
      "text/plain": [
       "(10000, 16384)"
      ]
     },
     "execution_count": 35,
     "metadata": {},
     "output_type": "execute_result"
    }
   ],
   "source": [
    "X_mapped_tst.shape"
   ]
  },
  {
   "cell_type": "markdown",
   "metadata": {
    "id": "d4MpAk2xS5aS"
   },
   "source": [
    "# Logistic Regression on mapped features"
   ]
  },
  {
   "cell_type": "code",
   "execution_count": 36,
   "metadata": {
    "id": "pfs8qf8nS5aQ"
   },
   "outputs": [],
   "source": [
    "X_mapped_trn_norm = (X_mapped_trn - X_mapped_trn.mean(axis=0))/X_mapped_trn.std(axis=0)"
   ]
  },
  {
   "cell_type": "code",
   "execution_count": 37,
   "metadata": {
    "id": "Ybv1WiP5S5aQ"
   },
   "outputs": [],
   "source": [
    "X_mapped_tst_norm = (X_mapped_tst - X_mapped_trn.mean(axis=0))/X_mapped_trn.std(axis=0)"
   ]
  },
  {
   "cell_type": "code",
   "execution_count": 3,
   "metadata": {
    "colab": {
     "base_uri": "https://localhost:8080/"
    },
    "id": "GMmvNyMRS5aS",
    "outputId": "5e44d333-d9d3-48dd-b579-ffcc9704780a"
   },
   "outputs": [
    {
     "ename": "NameError",
     "evalue": "name 'X_mapped_trn_norm' is not defined",
     "output_type": "error",
     "traceback": [
      "\u001b[0;31m---------------------------------------------------------------------------\u001b[0m",
      "\u001b[0;31mNameError\u001b[0m                                 Traceback (most recent call last)",
      "Cell \u001b[0;32mIn[3], line 3\u001b[0m\n\u001b[1;32m      1\u001b[0m \u001b[38;5;28;01mfrom\u001b[39;00m \u001b[38;5;21;01mscipy\u001b[39;00m\u001b[38;5;21;01m.\u001b[39;00m\u001b[38;5;21;01mstats\u001b[39;00m \u001b[38;5;28;01mimport\u001b[39;00m ks_2samp\n\u001b[0;32m----> 3\u001b[0m statistic, p_value \u001b[38;5;241m=\u001b[39m ks_2samp(\u001b[43mX_mapped_trn_norm\u001b[49m, X_mapped_tst_norm)\n",
      "\u001b[0;31mNameError\u001b[0m: name 'X_mapped_trn_norm' is not defined"
     ]
    }
   ],
   "source": [
    "from scipy.stats import ks_2samp\n",
    "statistic, p_value = ks_2samp(X_mapped_trn_norm, X_mapped_tst_norm)"
   ]
  },
  {
   "cell_type": "code",
   "execution_count": 41,
   "metadata": {
    "colab": {
     "base_uri": "https://localhost:8080/"
    },
    "id": "3RtuWcy-S5aT",
    "outputId": "38c4e368-3610-471d-c3aa-b411d7781c71",
    "scrolled": true,
    "tags": []
   },
   "outputs": [
    {
     "name": "stderr",
     "output_type": "stream",
     "text": [
      "/opt/homebrew/Caskroom/miniconda/base/envs/ml/lib/python3.10/site-packages/sklearn/linear_model/_logistic.py:458: ConvergenceWarning: lbfgs failed to converge (status=1):\n",
      "STOP: TOTAL NO. of ITERATIONS REACHED LIMIT.\n",
      "\n",
      "Increase the number of iterations (max_iter) or scale the data as shown in:\n",
      "    https://scikit-learn.org/stable/modules/preprocessing.html\n",
      "Please also refer to the documentation for alternative solver options:\n",
      "    https://scikit-learn.org/stable/modules/linear_model.html#logistic-regression\n",
      "  n_iter_i = _check_optimize_result(\n"
     ]
    }
   ],
   "source": [
    "from sklearn.linear_model import LogisticRegression\n",
    "clf = LogisticRegression(random_state=0, max_iter=200, n_jobs=-1, verbose=False).fit(X_mapped_trn_norm, y_trn.flatten())"
   ]
  },
  {
   "cell_type": "markdown",
   "metadata": {},
   "source": [
    "# Results! 😊"
   ]
  },
  {
   "cell_type": "code",
   "execution_count": 42,
   "metadata": {
    "colab": {
     "base_uri": "https://localhost:8080/"
    },
    "id": "esPqtlHSS5aU",
    "outputId": "cd063896-e55c-48b9-8de9-a74083c90ec2"
   },
   "outputs": [
    {
     "data": {
      "text/plain": [
       "0.72046"
      ]
     },
     "execution_count": 42,
     "metadata": {},
     "output_type": "execute_result"
    }
   ],
   "source": [
    "y_trn_pred = clf.predict(X_mapped_trn_norm)\n",
    "(y_trn.flatten() == y_trn_pred).mean()"
   ]
  },
  {
   "cell_type": "code",
   "execution_count": 43,
   "metadata": {
    "colab": {
     "base_uri": "https://localhost:8080/"
    },
    "id": "4aV7x3lBS5aU",
    "outputId": "d560e378-82ea-4f80-b210-cf95f9e42802"
   },
   "outputs": [
    {
     "data": {
      "text/plain": [
       "0.557"
      ]
     },
     "execution_count": 43,
     "metadata": {},
     "output_type": "execute_result"
    }
   ],
   "source": [
    "y_tst_pred = clf.predict(X_mapped_tst_norm)\n",
    "(y_tst.flatten() == y_tst_pred).mean()"
   ]
  }
 ],
 "metadata": {
  "colab": {
   "collapsed_sections": [],
   "include_colab_link": true,
   "machine_shape": "hm",
   "provenance": []
  },
  "kernelspec": {
   "display_name": "Python 3 (ipykernel)",
   "language": "python",
   "name": "python3"
  },
  "language_info": {
   "codemirror_mode": {
    "name": "ipython",
    "version": 3
   },
   "file_extension": ".py",
   "mimetype": "text/x-python",
   "name": "python",
   "nbconvert_exporter": "python",
   "pygments_lexer": "ipython3",
   "version": "3.10.9"
  }
 },
 "nbformat": 4,
 "nbformat_minor": 4
}
