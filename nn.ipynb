{
 "cells": [
  {
   "cell_type": "markdown",
   "metadata": {
    "colab_type": "text",
    "id": "view-in-github"
   },
   "source": [
    "<a href=\"https://colab.research.google.com/github/marekpiotradamczyk/ml_uwr_22/blob/main/kmeans_deep_features.ipynb\" target=\"_parent\"><img src=\"https://colab.research.google.com/assets/colab-badge.svg\" alt=\"Open In Colab\"/></a>"
   ]
  },
  {
   "cell_type": "markdown",
   "metadata": {},
   "source": [
    "# How it differs from the default solution? \n",
    "\n",
    "Here we are using a neural network instead of a logreg"
   ]
  },
  {
   "cell_type": "markdown",
   "metadata": {},
   "source": [
    "# Load data & default imports"
   ]
  },
  {
   "cell_type": "code",
   "execution_count": 1,
   "metadata": {
    "id": "T36fIpVCGGAt",
    "tags": []
   },
   "outputs": [],
   "source": [
    "import os\n",
    "import sys\n",
    "import pickle\n",
    "import numpy as np\n",
    "import pandas as pd\n",
    "import scipy.stats as sstats\n",
    "import multiprocessing as mp\n",
    "from sklearn import datasets\n",
    "import sklearn.linear_model\n",
    "from tqdm.auto import tqdm\n",
    "from matplotlib import animation, pyplot, rc\n",
    "import matplotlib.pyplot as plt\n",
    "import httpimport\n",
    "from os.path import join\n",
    "import os.path\n",
    "from PIL import Image\n",
    "import tensorflow as tf\n",
    "\n",
    "from sklearn.cluster import KMeans, MiniBatchKMeans\n",
    "import numpy as np\n",
    "\n",
    "from sklearn.feature_extraction import image\n",
    "from sklearn.metrics import pairwise_distances\n",
    "from sklearn.metrics.pairwise import euclidean_distances\n",
    "from sklearn.linear_model import LogisticRegression\n",
    "\n",
    "from FeaturesExtractor import FeaturesExtractor\n",
    "from helpers import plot_history\n",
    "\n",
    "import keras\n",
    "from keras.models import Sequential\n",
    "from keras.layers import Dense, Flatten\n",
    "\n",
    "!pip install -q gdown httpimport\n",
    "![ -e cifar.npz ] || gdown 'https://drive.google.com/uc?id=1oBzZdtg2zNTPGhbRy6DQ_wrf5L5OAhNR' -O cifar.npz\n",
    "\n",
    "with np.load('cifar.npz') as data:\n",
    "    X_trn = data['train_data']\n",
    "    y_trn = data['train_labels']\n",
    "    X_tst = data['test_data']\n",
    "    y_tst = data['test_labels']"
   ]
  },
  {
   "cell_type": "markdown",
   "metadata": {},
   "source": [
    "# testing"
   ]
  },
  {
   "cell_type": "code",
   "execution_count": 16,
   "metadata": {},
   "outputs": [],
   "source": [
    "C          = -1\n",
    "PATCH_SIZE = 8\n",
    "PATCH_NUM  = 4000000\n",
    "STRIDE     = 6\n",
    "K          = 512"
   ]
  },
  {
   "cell_type": "code",
   "execution_count": 17,
   "metadata": {
    "tags": []
   },
   "outputs": [
    {
     "name": "stdout",
     "output_type": "stream",
     "text": [
      "Started fitting extractor:\n"
     ]
    },
    {
     "data": {
      "application/vnd.jupyter.widget-view+json": {
       "model_id": "7ad0dc3bd060453da2d4d5c778e3a746",
       "version_major": 2,
       "version_minor": 0
      },
      "text/plain": [
       "  0%|          | 0/6401 [00:00<?, ?it/s]"
      ]
     },
     "metadata": {},
     "output_type": "display_data"
    },
    {
     "name": "stdout",
     "output_type": "stream",
     "text": [
      "Started extracting\n"
     ]
    },
    {
     "data": {
      "application/vnd.jupyter.widget-view+json": {
       "model_id": "dc701a04d1294989875c31abf71f8b2d",
       "version_major": 2,
       "version_minor": 0
      },
      "text/plain": [
       "  0%|          | 0/50000 [00:00<?, ?it/s]"
      ]
     },
     "metadata": {},
     "output_type": "display_data"
    },
    {
     "name": "stdout",
     "output_type": "stream",
     "text": [
      "Started extracting\n"
     ]
    },
    {
     "data": {
      "application/vnd.jupyter.widget-view+json": {
       "model_id": "06352e2e8578461b8f62c9cfe5deb0ac",
       "version_major": 2,
       "version_minor": 0
      },
      "text/plain": [
       "  0%|          | 0/10000 [00:00<?, ?it/s]"
      ]
     },
     "metadata": {},
     "output_type": "display_data"
    }
   ],
   "source": [
    "extractor = FeaturesExtractor(PATCH_SIZE, PATCH_NUM, STRIDE, K)\n",
    "\n",
    "kmeans_counts = extractor.fit(X_trn)\n",
    "\n",
    "X_trn_features = extractor.extract(X_trn)\n",
    "X_tst_features = extractor.extract(X_tst)\n",
    "\n",
    "y_trn_categorical = keras.utils.to_categorical(y_trn)\n",
    "y_tst_categorical = keras.utils.to_categorical(y_tst)"
   ]
  },
  {
   "cell_type": "code",
   "execution_count": 18,
   "metadata": {},
   "outputs": [
    {
     "data": {
      "text/plain": [
       "array([ 5951,  8316,  6255, 14379, 11945,  7542,  9640, 10715,  2663,\n",
       "        4812,  9375,  5754,  5121,  8470,  8094, 10542, 10712,  6986,\n",
       "        7225,  7897,  8463,  7220,  8980,  6205,  6900,  3231,  8737,\n",
       "        3327,  6692,  4443, 35175,  9580, 10100, 12464,  5326, 13104,\n",
       "        8227,  8162,  8702,  9820,  6923, 18468,  9948,  9341,  8187,\n",
       "        6035,  5154,  4603,  7597,  7306,  9732,  3920,  5963,  9938,\n",
       "       17432,  9476, 10748, 11714,  6546,  8464,  9363,  6132,  7153,\n",
       "        8530,  5280,  7494,  6712,  8693,  8774,  7124,  5202, 13400,\n",
       "        2956,  6365,  4683,  4771,  5346,  9163, 11417,  6474,  5389,\n",
       "        4133,  2858,  8449,  7664,  6504,  9141,  4566, 12175, 24403,\n",
       "       12143,  5423,  5380, 12924,  6735,  9854, 10069,  9861, 10195,\n",
       "        7180,  6382,  7902,  3424,  9650,  7399, 11427,  6277,  5928,\n",
       "        6826,  4365,  6443,  8854,  4086,  5191,  5468,  5655,  5641,\n",
       "        5194,  5755,  5322,  7491,  5356, 13875,  4864, 10492,  8703,\n",
       "        3754, 14768,  5929, 14727,  7696,  3779,  4646,  4030,  4393,\n",
       "        3818,  3860,  9457,  5332,  6369,  4660,  5365,  5833,  9930,\n",
       "        5966,  5792,  7998,  9920,  7866,  7002,  4483,  9001,  5413,\n",
       "        7634,  5452,  5548,  6177,  9475,  3265,  7469,  5134,  5523,\n",
       "        7051,  4879,  5310,  5849, 12845,  5277,  7404,  3972,  4919,\n",
       "        7623,  6074,  7501,  2890, 11697,  4712,  8941,  8844,  5490,\n",
       "        6113, 11921,  5582,  4829,  7790,  7432,  7925, 11074, 12816,\n",
       "        7706,  6204, 12638,  6401, 10136,  4299,  3162, 11921,  7132,\n",
       "        4965,  7007,  4397,  6474,  9296,  3085,  5195, 23995, 13275,\n",
       "        4842,  5234,  5474,  5797,  4959,  9437,  5991,  6808,  4101,\n",
       "        7559,  4730,  4906,  5517,  7824, 12337, 11448, 10592,  6064,\n",
       "        3191,  6191, 11930,  6266,  5072,  4209,  5414,  8398,  4138,\n",
       "        5888,  5560,  8708,  8817,  6787,  7765,  4098,  5010,  7712,\n",
       "       35319,  5097,  5138, 16194, 25656,  8297,  3492,  4273,  4927,\n",
       "        5131,  8630,  6043,  7225,  7303,  6572,  7488,  5575,  9758,\n",
       "        8230,  6016, 12826,  7783, 12396,  5956,  5412,  7692,  7004,\n",
       "        9761,  9685,  4239,  8151,  7388,  2874,  5410,  8244,  8605,\n",
       "        8984,  3752,  5636,  5869,  9728,  8033,  8076,  9673,  5758,\n",
       "        4984,  8175,  7502,  5678,  9415,  6042,  4313,  7138, 11677,\n",
       "        5707,  6449,  9475,  6939,  9732,  9638, 10931,  6719,  6184,\n",
       "        7739,  4723,  5861,  5376,  7912,  7040,  6595,  5248,  4690,\n",
       "        7278,  9531, 10925,  4225, 10737, 13943,  6733,  6560,  5787,\n",
       "        4840,  4206,  5565,  7321,  6475,  8510,  6398, 13370, 15749,\n",
       "       11226, 23945, 10069,  8360,  6239,  3909,  3548,  4255,  4821,\n",
       "       10023,  9459,  5493,  5160,  3829, 12248, 11430,  9258,  9457,\n",
       "        5109,  8789,  8338,  4536,  5533,  6724, 11028,  5310,  6935,\n",
       "        8462,  5793, 11130, 10435,  8014,  4699,  7314, 14523,  4134,\n",
       "        7029,  9927,  8094,  8651,  8198,  6350,  9090,  9535,  4142,\n",
       "        7470,  5484,  7362,  4686,  6310,  7608, 14318,  4893,  5711,\n",
       "        5679, 11474,  4643, 17090,  6102,  5417, 11210,  9692, 37867,\n",
       "        5856,  8433,  6139, 13830, 14589,  4503,  8413,  6869, 16963,\n",
       "       11923,  4141, 12008, 15674, 12840,  6019,  8819,  7888,  5656,\n",
       "        6626,  5848,  4062, 12738, 38850,  4855,  3895,  3853,  4433,\n",
       "        3894,  4912,  5953,  5391,  4267,  5008, 12159,  8612,  5338,\n",
       "        6944,  6053,  7466,  7257,  2977,  8292,  6299,  8557,  8140,\n",
       "        7369,  4070,  4183,  2932,  6259, 10194, 11321,  8118,  5624,\n",
       "        3136, 15004,  7500,  8707,  6810,  8576,  4230,  6353,  6917,\n",
       "        6741,  3450, 11498,  8807,  4515, 12149,  4743,  6856,  6268,\n",
       "        6422,  7605,  6050,  2804, 10844,  8219,  7960,  4029,  5519,\n",
       "        7067,  6235, 10164, 14878,  6993,  3746,  5773,  9089,  4883,\n",
       "        7566, 24806,  9653, 12557,  5231,  5145,  7985,  5712,  9167,\n",
       "        9250,  4713,  5406,  5048,  8811,  6625, 17617,  6866,  6325,\n",
       "       10605,  3105,  3622,  6708, 10978,  5244,  7043,  9003])"
      ]
     },
     "execution_count": 18,
     "metadata": {},
     "output_type": "execute_result"
    }
   ],
   "source": [
    "kmeans_counts"
   ]
  },
  {
   "cell_type": "code",
   "execution_count": 19,
   "metadata": {},
   "outputs": [
    {
     "data": {
      "image/png": "[encoded data removed]",
      "text/plain": [
       "<Figure size 640x480 with 1 Axes>"
      ]
     },
     "metadata": {},
     "output_type": "display_data"
    }
   ],
   "source": [
    "plt.hist(kmeans_counts, bins=K)\n",
    "plt.xlabel('Number of elements')\n",
    "plt.ylabel('Count')\n",
    "plt.title('Distribution of counts')\n",
    "plt.show()"
   ]
  },
  {
   "cell_type": "code",
   "execution_count": 28,
   "metadata": {
    "collapsed": true,
    "jupyter": {
     "outputs_hidden": true
    },
    "tags": []
   },
   "outputs": [
    {
     "name": "stdout",
     "output_type": "stream",
     "text": [
      "Epoch 1/15\n",
      "250/250 [==============================] - 2s 7ms/step - loss: 1.6811 - accuracy: 0.4005 - val_loss: 1.4882 - val_accuracy: 0.4681\n",
      "Epoch 2/15\n",
      "250/250 [==============================] - 2s 7ms/step - loss: 1.4532 - accuracy: 0.4832 - val_loss: 1.3929 - val_accuracy: 0.5057\n",
      "Epoch 3/15\n",
      "250/250 [==============================] - 2s 7ms/step - loss: 1.3522 - accuracy: 0.5209 - val_loss: 1.3421 - val_accuracy: 0.5216\n",
      "Epoch 4/15\n",
      "250/250 [==============================] - 2s 7ms/step - loss: 1.2801 - accuracy: 0.5458 - val_loss: 1.3290 - val_accuracy: 0.5302\n",
      "Epoch 5/15\n",
      "250/250 [==============================] - 2s 7ms/step - loss: 1.2116 - accuracy: 0.5675 - val_loss: 1.3188 - val_accuracy: 0.5296\n",
      "Epoch 6/15\n",
      "250/250 [==============================] - 2s 7ms/step - loss: 1.1553 - accuracy: 0.5902 - val_loss: 1.2973 - val_accuracy: 0.5465\n",
      "Epoch 7/15\n",
      "250/250 [==============================] - 2s 7ms/step - loss: 1.0984 - accuracy: 0.6067 - val_loss: 1.3058 - val_accuracy: 0.5506\n",
      "Epoch 8/15\n",
      "250/250 [==============================] - 2s 7ms/step - loss: 1.0552 - accuracy: 0.6247 - val_loss: 1.2833 - val_accuracy: 0.5570\n",
      "Epoch 9/15\n",
      "250/250 [==============================] - 2s 7ms/step - loss: 1.0003 - accuracy: 0.6414 - val_loss: 1.2791 - val_accuracy: 0.5593\n",
      "Epoch 10/15\n",
      "250/250 [==============================] - 2s 7ms/step - loss: 0.9644 - accuracy: 0.6548 - val_loss: 1.3061 - val_accuracy: 0.5574\n",
      "Epoch 11/15\n",
      "250/250 [==============================] - 2s 7ms/step - loss: 0.9244 - accuracy: 0.6688 - val_loss: 1.3085 - val_accuracy: 0.5557\n",
      "Epoch 12/15\n",
      "250/250 [==============================] - 2s 7ms/step - loss: 0.8832 - accuracy: 0.6849 - val_loss: 1.3455 - val_accuracy: 0.5574\n",
      "Epoch 13/15\n",
      "250/250 [==============================] - 2s 7ms/step - loss: 0.8478 - accuracy: 0.6964 - val_loss: 1.3205 - val_accuracy: 0.5614\n",
      "Epoch 14/15\n",
      "250/250 [==============================] - 2s 7ms/step - loss: 0.8176 - accuracy: 0.7077 - val_loss: 1.3428 - val_accuracy: 0.5587\n",
      "Epoch 15/15\n",
      "250/250 [==============================] - 2s 7ms/step - loss: 0.7832 - accuracy: 0.7181 - val_loss: 1.3576 - val_accuracy: 0.5578\n",
      "Accuracy: 0.5577999949455261\n"
     ]
    },
    {
     "data": {
      "image/png": "[encoded data removed]",
      "text/plain": [
       "<Figure size 1500x500 with 2 Axes>"
      ]
     },
     "metadata": {},
     "output_type": "display_data"
    }
   ],
   "source": [
    "tf.keras.utils.set_random_seed(69)\n",
    "\n",
    "M = X_trn_features.shape[1]\n",
    "DROPOUT = 0.18\n",
    "\n",
    "model = Sequential([\n",
    "    keras.layers.Dense(512, activation='relu', input_shape=(M,)),\n",
    "    keras.layers.Dropout(DROPOUT),\n",
    "    keras.layers.Dense(512, activation='relu'),\n",
    "    keras.layers.Dropout(DROPOUT),\n",
    "    keras.layers.Dense(512, activation='relu'),\n",
    "    keras.layers.Dropout(DROPOUT),\n",
    "    keras.layers.Dense(10, activation='softmax')\n",
    "])\n",
    "model.compile(loss='categorical_crossentropy', optimizer='adam', metrics=['accuracy'])\n",
    "\n",
    "history = model.fit(X_trn_features, y_trn_categorical, batch_size=200, epochs=150, verbose=1, validation_data=(X_tst_features, y_tst_categorical))\n",
    "\n",
    "loss, accuracy = model.evaluate(X_tst_features, y_tst_categorical, verbose=0)\n",
    "print('Accuracy:', accuracy)\n",
    "plot_history(history)"
   ]
  },
  {
   "cell_type": "code",
   "execution_count": null,
   "metadata": {
    "tags": []
   },
   "outputs": [
    {
     "name": "stdout",
     "output_type": "stream",
     "text": [
      "[0]\tvalidation_0-merror:0.62890\n",
      "[1]\tvalidation_0-merror:0.59420\n",
      "[2]\tvalidation_0-merror:0.57200\n"
     ]
    }
   ],
   "source": [
    "import xgboost as xgb\n",
    "\n",
    "model = xgb.XGBClassifier(\n",
    "    n_estimators = 220,\n",
    "    num_class = 10,\n",
    "    max_depth = 10,\n",
    "    seed = 69,\n",
    "    eval_metric = 'merror'\n",
    ")\n",
    "\n",
    "model.fit(X_trn_features, y_trn, verbose = True, eval_set = [(X_tst_features, y_tst)])\n",
    "\n",
    "# Save the model's weights\n",
    "model.save_model('xgboost_220_10_new_patches.bin')\n",
    "\n",
    "accuracy = model.score(X_tst_features, y_tst)\n",
    "\n",
    "print('Accuracy:', accuracy)\n"
   ]
  },
  {
   "cell_type": "code",
   "execution_count": null,
   "metadata": {
    "tags": []
   },
   "outputs": [],
   "source": [
    "\"\"\"\n",
    "[0]\tvalidation_0-merror:0.63950\n",
    "[1]\tvalidation_0-merror:0.59930\n",
    "[2]\tvalidation_0-merror:0.57680\n",
    "[3]\tvalidation_0-merror:0.55780\n",
    "[4]\tvalidation_0-merror:0.54220\n",
    "[5]\tvalidation_0-merror:0.53490\n",
    "[6]\tvalidation_0-merror:0.52710\n",
    "[7]\tvalidation_0-merror:0.52420\n",
    "[8]\tvalidation_0-merror:0.51860\n",
    "[9]\tvalidation_0-merror:0.51290\n",
    "[10]\tvalidation_0-merror:0.50550\n",
    "[11]\tvalidation_0-merror:0.49900\n",
    "[12]\tvalidation_0-merror:0.49650\n",
    "[13]\tvalidation_0-merror:0.49450\n",
    "[14]\tvalidation_0-merror:0.49320\n",
    "[15]\tvalidation_0-merror:0.48780\n",
    "[16]\tvalidation_0-merror:0.48520\n",
    "[17]\tvalidation_0-merror:0.48320\n",
    "[18]\tvalidation_0-merror:0.48050\n",
    "[19]\tvalidation_0-merror:0.47830\n",
    "[20]\tvalidation_0-merror:0.47910\n",
    "[21]\tvalidation_0-merror:0.47420\n",
    "[22]\tvalidation_0-merror:0.47200\n",
    "[23]\tvalidation_0-merror:0.46960\n",
    "[24]\tvalidation_0-merror:0.46730\n",
    "[25]\tvalidation_0-merror:0.46450\n",
    "[26]\tvalidation_0-merror:0.46560\n",
    "[27]\tvalidation_0-merror:0.46150\n",
    "[28]\tvalidation_0-merror:0.45970\n",
    "[29]\tvalidation_0-merror:0.45710\n",
    "[30]\tvalidation_0-merror:0.45660\n",
    "[31]\tvalidation_0-merror:0.45370\n",
    "[32]\tvalidation_0-merror:0.45390\n",
    "[33]\tvalidation_0-merror:0.45160\n",
    "[34]\tvalidation_0-merror:0.45070\n",
    "[35]\tvalidation_0-merror:0.44760\n",
    "[36]\tvalidation_0-merror:0.44720\n",
    "[37]\tvalidation_0-merror:0.44600\n",
    "[38]\tvalidation_0-merror:0.44450\n",
    "[39]\tvalidation_0-merror:0.44340\n",
    "[40]\tvalidation_0-merror:0.44240\n",
    "[41]\tvalidation_0-merror:0.44190\n",
    "[42]\tvalidation_0-merror:0.43960\n",
    "[43]\tvalidation_0-merror:0.43880\n",
    "[44]\tvalidation_0-merror:0.43760\n",
    "[45]\tvalidation_0-merror:0.43620\n",
    "[46]\tvalidation_0-merror:0.43620\n",
    "[47]\tvalidation_0-merror:0.43500\n",
    "[48]\tvalidation_0-merror:0.43280\n",
    "[49]\tvalidation_0-merror:0.43280\n",
    "[50]\tvalidation_0-merror:0.43150\n",
    "[51]\tvalidation_0-merror:0.42970\n",
    "[52]\tvalidation_0-merror:0.42760\n",
    "[53]\tvalidation_0-merror:0.42750\n",
    "[54]\tvalidation_0-merror:0.42650\n",
    "[55]\tvalidation_0-merror:0.42520\n",
    "[56]\tvalidation_0-merror:0.42360\n",
    "[57]\tvalidation_0-merror:0.42220\n",
    "[58]\tvalidation_0-merror:0.42200\n",
    "[59]\tvalidation_0-merror:0.42280\n",
    "[60]\tvalidation_0-merror:0.42210\n",
    "[61]\tvalidation_0-merror:0.42070\n",
    "[62]\tvalidation_0-merror:0.42000\n",
    "[63]\tvalidation_0-merror:0.42050\n",
    "[64]\tvalidation_0-merror:0.41990\n",
    "[65]\tvalidation_0-merror:0.41860\n",
    "[66]\tvalidation_0-merror:0.41800\n",
    "[67]\tvalidation_0-merror:0.41680\n",
    "[68]\tvalidation_0-merror:0.41580\n",
    "[69]\tvalidation_0-merror:0.41470\n",
    "[70]\tvalidation_0-merror:0.41310\n",
    "[71]\tvalidation_0-merror:0.41300\n",
    "[72]\tvalidation_0-merror:0.41100\n",
    "[73]\tvalidation_0-merror:0.41120\n",
    "[74]\tvalidation_0-merror:0.41140\n",
    "[75]\tvalidation_0-merror:0.41180\n",
    "[76]\tvalidation_0-merror:0.40990\n",
    "[77]\tvalidation_0-merror:0.40890\n",
    "[78]\tvalidation_0-merror:0.40750\n",
    "[79]\tvalidation_0-merror:0.40720\n",
    "[80]\tvalidation_0-merror:0.40680\n",
    "[81]\tvalidation_0-merror:0.40680\n",
    "[82]\tvalidation_0-merror:0.40690\n",
    "[83]\tvalidation_0-merror:0.40850\n",
    "[84]\tvalidation_0-merror:0.40840\n",
    "[85]\tvalidation_0-merror:0.40690\n",
    "[86]\tvalidation_0-merror:0.40620\n",
    "[87]\tvalidation_0-merror:0.40520\n",
    "[88]\tvalidation_0-merror:0.40500\n",
    "[89]\tvalidation_0-merror:0.40270\n",
    "[90]\tvalidation_0-merror:0.40190\n",
    "[91]\tvalidation_0-merror:0.40250\n",
    "[92]\tvalidation_0-merror:0.40260\n",
    "[93]\tvalidation_0-merror:0.40240\n",
    "[94]\tvalidation_0-merror:0.40100\n",
    "[95]\tvalidation_0-merror:0.40070\n",
    "[96]\tvalidation_0-merror:0.40060\n",
    "[97]\tvalidation_0-merror:0.39980\n",
    "[98]\tvalidation_0-merror:0.39950\n",
    "[99]\tvalidation_0-merror:0.39890\n",
    "[100]\tvalidation_0-merror:0.39940\n",
    "[101]\tvalidation_0-merror:0.39810\n",
    "[102]\tvalidation_0-merror:0.39940\n",
    "[103]\tvalidation_0-merror:0.39900\n",
    "[104]\tvalidation_0-merror:0.39850\n",
    "[105]\tvalidation_0-merror:0.39680\n",
    "[106]\tvalidation_0-merror:0.39690\n",
    "[107]\tvalidation_0-merror:0.39630\n",
    "[108]\tvalidation_0-merror:0.39580\n",
    "[109]\tvalidation_0-merror:0.39510\n",
    "[110]\tvalidation_0-merror:0.39480\n",
    "[111]\tvalidation_0-merror:0.39440\n",
    "[112]\tvalidation_0-merror:0.39510\n",
    "[113]\tvalidation_0-merror:0.39500\n",
    "[114]\tvalidation_0-merror:0.39560\n",
    "[115]\tvalidation_0-merror:0.39450\n",
    "[116]\tvalidation_0-merror:0.39330\n",
    "[117]\tvalidation_0-merror:0.39360\n",
    "[118]\tvalidation_0-merror:0.39370\n",
    "[119]\tvalidation_0-merror:0.39370\n",
    "[120]\tvalidation_0-merror:0.39300\n",
    "[121]\tvalidation_0-merror:0.39300\n",
    "[122]\tvalidation_0-merror:0.39200\n",
    "[123]\tvalidation_0-merror:0.39180\n",
    "[124]\tvalidation_0-merror:0.39100\n",
    "[125]\tvalidation_0-merror:0.39170\n",
    "[126]\tvalidation_0-merror:0.39120\n",
    "[127]\tvalidation_0-merror:0.39140\n",
    "[128]\tvalidation_0-merror:0.39150\n",
    "[129]\tvalidation_0-merror:0.39100\n",
    "[130]\tvalidation_0-merror:0.39000\n",
    "[131]\tvalidation_0-merror:0.38890\n",
    "[132]\tvalidation_0-merror:0.38880\n",
    "[133]\tvalidation_0-merror:0.38750\n",
    "[134]\tvalidation_0-merror:0.38760\n",
    "[135]\tvalidation_0-merror:0.38740\n",
    "[136]\tvalidation_0-merror:0.38770\n",
    "[137]\tvalidation_0-merror:0.38760\n",
    "[138]\tvalidation_0-merror:0.38790\n",
    "[139]\tvalidation_0-merror:0.38690\n",
    "[140]\tvalidation_0-merror:0.38700\n",
    "[141]\tvalidation_0-merror:0.38640\n",
    "[142]\tvalidation_0-merror:0.38620\n",
    "[143]\tvalidation_0-merror:0.38630\n",
    "[144]\tvalidation_0-merror:0.38550\n",
    "[145]\tvalidation_0-merror:0.38550\n",
    "[146]\tvalidation_0-merror:0.38520\n",
    "[147]\tvalidation_0-merror:0.38470\n",
    "[148]\tvalidation_0-merror:0.38550\n",
    "[149]\tvalidation_0-merror:0.38470\n",
    "[150]\tvalidation_0-merror:0.38470\n",
    "[151]\tvalidation_0-merror:0.38450\n",
    "[152]\tvalidation_0-merror:0.38350\n",
    "[153]\tvalidation_0-merror:0.38180\n",
    "[154]\tvalidation_0-merror:0.38310\n",
    "[155]\tvalidation_0-merror:0.38240\n",
    "[156]\tvalidation_0-merror:0.38230\n",
    "[157]\tvalidation_0-merror:0.38070\n",
    "[158]\tvalidation_0-merror:0.38100\n",
    "[159]\tvalidation_0-merror:0.38240\n",
    "[160]\tvalidation_0-merror:0.38180\n",
    "[161]\tvalidation_0-merror:0.38210\n",
    "[162]\tvalidation_0-merror:0.38260\n",
    "[163]\tvalidation_0-merror:0.38200\n",
    "[164]\tvalidation_0-merror:0.38150\n",
    "[165]\tvalidation_0-merror:0.38190\n",
    "[166]\tvalidation_0-merror:0.38170\n",
    "[167]\tvalidation_0-merror:0.38150\n",
    "[168]\tvalidation_0-merror:0.38070\n",
    "[169]\tvalidation_0-merror:0.38130\n",
    "[170]\tvalidation_0-merror:0.38050\n",
    "[171]\tvalidation_0-merror:0.38000\n",
    "[172]\tvalidation_0-merror:0.38080\n",
    "[173]\tvalidation_0-merror:0.38020\n",
    "[174]\tvalidation_0-merror:0.38110\n",
    "[175]\tvalidation_0-merror:0.38080\n",
    "[176]\tvalidation_0-merror:0.38070\n",
    "[177]\tvalidation_0-merror:0.38010\n",
    "[178]\tvalidation_0-merror:0.38170\n",
    "[179]\tvalidation_0-merror:0.38120\n",
    "[180]\tvalidation_0-merror:0.38110\n",
    "[181]\tvalidation_0-merror:0.38060\n",
    "[182]\tvalidation_0-merror:0.38010\n",
    "[183]\tvalidation_0-merror:0.37990\n",
    "[184]\tvalidation_0-merror:0.38020\n",
    "[185]\tvalidation_0-merror:0.37970\n",
    "[186]\tvalidation_0-merror:0.37950\n",
    "[187]\tvalidation_0-merror:0.38040\n",
    "[188]\tvalidation_0-merror:0.37950\n",
    "[189]\tvalidation_0-merror:0.37850\n",
    "[190]\tvalidation_0-merror:0.37900\n",
    "[191]\tvalidation_0-merror:0.37930\n",
    "[192]\tvalidation_0-merror:0.37850\n",
    "[193]\tvalidation_0-merror:0.37780\n",
    "[194]\tvalidation_0-merror:0.37830\n",
    "[195]\tvalidation_0-merror:0.37810\n",
    "[196]\tvalidation_0-merror:0.37810\n",
    "[197]\tvalidation_0-merror:0.37890\n",
    "[198]\tvalidation_0-merror:0.37780\n",
    "[199]\tvalidation_0-merror:0.37810\n",
    "[200]\tvalidation_0-merror:0.37700\n",
    "[201]\tvalidation_0-merror:0.37660\n",
    "[202]\tvalidation_0-merror:0.37660\n",
    "[203]\tvalidation_0-merror:0.37650\n",
    "[204]\tvalidation_0-merror:0.37680\n",
    "[205]\tvalidation_0-merror:0.37610\n",
    "[206]\tvalidation_0-merror:0.37600\n",
    "[207]\tvalidation_0-merror:0.37560\n",
    "[208]\tvalidation_0-merror:0.37500\n",
    "[209]\tvalidation_0-merror:0.37480\n",
    "[210]\tvalidation_0-merror:0.37490\n",
    "[211]\tvalidation_0-merror:0.37540\n",
    "[212]\tvalidation_0-merror:0.37490\n",
    "[213]\tvalidation_0-merror:0.37430\n",
    "[214]\tvalidation_0-merror:0.37510\n",
    "[215]\tvalidation_0-merror:0.37520\n",
    "[216]\tvalidation_0-merror:0.37480\n",
    "[217]\tvalidation_0-merror:0.37470\n",
    "[218]\tvalidation_0-merror:0.37490\n",
    "[219]\tvalidation_0-merror:0.37480\n",
    "Accuracy: 0.6252\n",
    "\"\"\""
   ]
  }
 ],
 "metadata": {
  "colab": {
   "collapsed_sections": [],
   "include_colab_link": true,
   "machine_shape": "hm",
   "provenance": []
  },
  "kernelspec": {
   "display_name": "Python 3 (ipykernel)",
   "language": "python",
   "name": "python3"
  },
  "language_info": {
   "codemirror_mode": {
    "name": "ipython",
    "version": 3
   },
   "file_extension": ".py",
   "mimetype": "text/x-python",
   "name": "python",
   "nbconvert_exporter": "python",
   "pygments_lexer": "ipython3",
   "version": "3.10.8"
  }
 },
 "nbformat": 4,
 "nbformat_minor": 4
}
