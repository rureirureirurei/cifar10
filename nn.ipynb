{
 "cells": [
  {
   "cell_type": "markdown",
   "metadata": {
    "colab_type": "text",
    "id": "view-in-github"
   },
   "source": [
    "<a href=\"https://colab.research.google.com/github/marekpiotradamczyk/ml_uwr_22/blob/main/kmeans_deep_features.ipynb\" target=\"_parent\"><img src=\"https://colab.research.google.com/assets/colab-badge.svg\" alt=\"Open In Colab\"/></a>"
   ]
  },
  {
   "cell_type": "markdown",
   "metadata": {},
   "source": [
    "# How it differs from the default solution? \n",
    "\n",
    "Here we are using a neural network instead of a logreg"
   ]
  },
  {
   "cell_type": "markdown",
   "metadata": {},
   "source": [
    "# Load data & default imports"
   ]
  },
  {
   "cell_type": "code",
   "execution_count": 1,
   "metadata": {
    "id": "T36fIpVCGGAt",
    "tags": []
   },
   "outputs": [],
   "source": [
    "import os\n",
    "import sys\n",
    "import pickle\n",
    "import numpy as np\n",
    "import pandas as pd\n",
    "import scipy.stats as sstats\n",
    "import multiprocessing as mp\n",
    "from sklearn import datasets\n",
    "import sklearn.linear_model\n",
    "from tqdm.auto import tqdm\n",
    "from matplotlib import animation, pyplot, rc\n",
    "import matplotlib.pyplot as plt\n",
    "import httpimport\n",
    "from os.path import join\n",
    "import os.path\n",
    "from PIL import Image\n",
    "\n",
    "from sklearn.cluster import KMeans, MiniBatchKMeans\n",
    "import numpy as np\n",
    "\n",
    "from sklearn.feature_extraction import image\n",
    "from sklearn.metrics import pairwise_distances\n",
    "from sklearn.metrics.pairwise import euclidean_distances\n",
    "from sklearn.linear_model import LogisticRegression\n",
    "\n",
    "from FeaturesExtractor import FeaturesExtractor\n",
    "\n",
    "import keras\n",
    "from keras.models import Sequential\n",
    "from keras.layers import Dense, Flatten\n",
    "\n",
    "!pip install -q gdown httpimport\n",
    "![ -e cifar.npz ] || gdown 'https://drive.google.com/uc?id=1oBzZdtg2zNTPGhbRy6DQ_wrf5L5OAhNR' -O cifar.npz\n",
    "\n",
    "with np.load('cifar.npz') as data:\n",
    "    X_trn = data['train_data']\n",
    "    y_trn = data['train_labels']\n",
    "    X_tst = data['test_data']\n",
    "    y_tst = data['test_labels']"
   ]
  },
  {
   "cell_type": "markdown",
   "metadata": {},
   "source": [
    "# testing"
   ]
  },
  {
   "cell_type": "code",
   "execution_count": 2,
   "metadata": {},
   "outputs": [],
   "source": [
    "C          = -1\n",
    "PATCH_SIZE = 4\n",
    "PATCH_NUM  = 1000000\n",
    "STRIDE     = 4\n",
    "K          = 64"
   ]
  },
  {
   "cell_type": "code",
   "execution_count": 3,
   "metadata": {
    "tags": []
   },
   "outputs": [],
   "source": [
    "extractor = FeaturesExtractor(PATCH_SIZE, PATCH_NUM, STRIDE, K)\n",
    "\n",
    "extractor.fit(X_trn)\n",
    "\n",
    "X_trn_features = extractor.extract(X_trn)\n",
    "X_tst_features = extractor.extract(X_tst)\n",
    "\n",
    "y_trn = keras.utils.to_categorical(y_trn)\n",
    "y_tst = keras.utils.to_categorical(y_tst)"
   ]
  },
  {
   "cell_type": "code",
   "execution_count": null,
   "metadata": {},
   "outputs": [
    {
     "name": "stdout",
     "output_type": "stream",
     "text": [
      "Epoch 1/20\n",
      "98/98 [==============================] - 4s 41ms/step - loss: 1.8948 - accuracy: 0.4105 - val_loss: 1.5213 - val_accuracy: 0.4681\n",
      "Epoch 2/20\n",
      "98/98 [==============================] - 4s 42ms/step - loss: 1.2270 - accuracy: 0.5807 - val_loss: 1.4843 - val_accuracy: 0.4963\n",
      "Epoch 3/20\n",
      "98/98 [==============================] - 4s 43ms/step - loss: 0.9467 - accuracy: 0.6764 - val_loss: 1.5434 - val_accuracy: 0.4944\n",
      "Epoch 4/20\n",
      "98/98 [==============================] - 4s 42ms/step - loss: 0.7035 - accuracy: 0.7638 - val_loss: 1.6342 - val_accuracy: 0.5091\n",
      "Epoch 5/20\n",
      "98/98 [==============================] - 4s 42ms/step - loss: 0.5033 - accuracy: 0.8319 - val_loss: 1.7785 - val_accuracy: 0.5058\n",
      "Epoch 6/20\n",
      "98/98 [==============================] - 4s 42ms/step - loss: 0.3532 - accuracy: 0.8846 - val_loss: 2.0278 - val_accuracy: 0.4985\n",
      "Epoch 7/20\n",
      "98/98 [==============================] - 4s 43ms/step - loss: 0.2629 - accuracy: 0.9146 - val_loss: 2.2195 - val_accuracy: 0.5043\n",
      "Epoch 8/20\n",
      "98/98 [==============================] - 4s 42ms/step - loss: 0.2057 - accuracy: 0.9337 - val_loss: 2.3798 - val_accuracy: 0.4975\n",
      "Epoch 9/20\n",
      "98/98 [==============================] - 4s 41ms/step - loss: 0.1680 - accuracy: 0.9450 - val_loss: 2.5351 - val_accuracy: 0.4987\n",
      "Epoch 10/20\n",
      "98/98 [==============================] - 4s 41ms/step - loss: 0.1530 - accuracy: 0.9477 - val_loss: 2.7598 - val_accuracy: 0.5038\n",
      "Epoch 11/20\n",
      "98/98 [==============================] - 4s 42ms/step - loss: 0.1440 - accuracy: 0.9504 - val_loss: 2.9173 - val_accuracy: 0.5010\n",
      "Epoch 12/20\n",
      "98/98 [==============================] - 4s 42ms/step - loss: 0.1732 - accuracy: 0.9420 - val_loss: 3.0835 - val_accuracy: 0.5000\n",
      "Epoch 13/20\n",
      "61/98 [=================>............] - ETA: 1s - loss: 0.1846 - accuracy: 0.9363"
     ]
    }
   ],
   "source": [
    "M = X_trn_features.shape[1]\n",
    "\n",
    "model = Sequential()\n",
    "model.add(Dense(512, activation='relu', input_shape=(M,)))\n",
    "model.add(Dense(512, activation='relu'))\n",
    "model.add(Dense(10, activation='softmax'))\n",
    "model.compile(loss='categorical_crossentropy', optimizer='adam', metrics=['accuracy'])\n",
    "\n",
    "history = model.fit(X_trn_features, y_trn, batch_size=512, epochs=20, verbose=1, validation_data=(X_tst_features, y_tst))\n",
    "\n",
    "loss, accuracy = model.evaluate(X_tst_features, y_tst, verbose=0)\n",
    "print('Accuracy:', accuracy)"
   ]
  },
  {
   "cell_type": "code",
   "execution_count": null,
   "metadata": {},
   "outputs": [],
   "source": []
  }
 ],
 "metadata": {
  "colab": {
   "collapsed_sections": [],
   "include_colab_link": true,
   "machine_shape": "hm",
   "provenance": []
  },
  "kernelspec": {
   "display_name": "Python 3 (ipykernel)",
   "language": "python",
   "name": "python3"
  },
  "language_info": {
   "codemirror_mode": {
    "name": "ipython",
    "version": 3
   },
   "file_extension": ".py",
   "mimetype": "text/x-python",
   "name": "python",
   "nbconvert_exporter": "python",
   "pygments_lexer": "ipython3",
   "version": "3.10.8"
  }
 },
 "nbformat": 4,
 "nbformat_minor": 4
}
