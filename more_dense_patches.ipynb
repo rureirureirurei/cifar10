{
 "cells": [
  {
   "cell_type": "markdown",
   "metadata": {
    "colab_type": "text",
    "id": "view-in-github"
   },
   "source": [
    "<a href=\"https://colab.research.google.com/github/marekpiotradamczyk/ml_uwr_22/blob/main/kmeans_deep_features.ipynb\" target=\"_parent\"><img src=\"https://colab.research.google.com/assets/colab-badge.svg\" alt=\"Open In Colab\"/></a>"
   ]
  },
  {
   "cell_type": "markdown",
   "metadata": {},
   "source": [
    "# How it differs from the default solution? \n",
    "\n",
    "More smaller patches and denser patches extraction from images.\n",
    "\n",
    "    PATCH_SIZE = 4\n",
    "    patch_num  = 5000000\n",
    "    STRIDE     = 2\n",
    "    \n",
    "Also, more clustsers:\n",
    "\n",
    "    kroot = 16\n",
    "    k = kroot * kroot\n",
    "    \n",
    "Note that it takes significant time to execute all steps"
   ]
  },
  {
   "cell_type": "markdown",
   "metadata": {},
   "source": [
    "# Load data & default imports"
   ]
  },
  {
   "cell_type": "code",
   "execution_count": 32,
   "metadata": {
    "id": "T36fIpVCGGAt",
    "tags": []
   },
   "outputs": [],
   "source": [
    "import os\n",
    "import sys\n",
    "import pickle\n",
    "import numpy as np\n",
    "import pandas as pd\n",
    "import scipy.stats as sstats\n",
    "import multiprocessing as mp\n",
    "from sklearn import datasets\n",
    "import sklearn.linear_model\n",
    "from tqdm.auto import tqdm\n",
    "from matplotlib import animation, pyplot, rc\n",
    "import matplotlib.pyplot as plt\n",
    "import httpimport\n",
    "from os.path import join\n",
    "import os.path\n",
    "from PIL import Image"
   ]
  },
  {
   "cell_type": "code",
   "execution_count": 6,
   "metadata": {
    "id": "f6je-NQf810D",
    "tags": []
   },
   "outputs": [],
   "source": [
    "!pip install -q gdown httpimport\n",
    "![ -e cifar.npz ] || gdown 'https://drive.google.com/uc?id=1oBzZdtg2zNTPGhbRy6DQ_wrf5L5OAhNR' -O cifar.npz"
   ]
  },
  {
   "cell_type": "code",
   "execution_count": 7,
   "metadata": {
    "id": "XVdY0QLv9dAv",
    "tags": []
   },
   "outputs": [],
   "source": [
    "with np.load('cifar.npz') as data:\n",
    "    cifar_train_data = data['train_data']\n",
    "    cifar_train_labels = data['train_labels']\n",
    "    cifar_test_data = data['test_data']\n",
    "    cifar_test_labels = data['test_labels']\n",
    "\n",
    "\n",
    "def exists(file_path):\n",
    "    return os.path.isfile(file_path)"
   ]
  },
  {
   "cell_type": "code",
   "execution_count": 8,
   "metadata": {
    "id": "GoayFo-HlVXf",
    "tags": []
   },
   "outputs": [],
   "source": [
    "X_trn = cifar_train_data\n",
    "y_trn = cifar_train_labels\n",
    "X_tst = cifar_test_data\n",
    "y_tst = cifar_test_labels"
   ]
  },
  {
   "cell_type": "markdown",
   "metadata": {
    "id": "krVBYnbQS5Z_"
   },
   "source": [
    "# Deep Features"
   ]
  },
  {
   "cell_type": "markdown",
   "metadata": {
    "id": "ifx-N_fsS5aA"
   },
   "source": [
    "## find important patterns in patches"
   ]
  },
  {
   "cell_type": "code",
   "execution_count": 9,
   "metadata": {},
   "outputs": [],
   "source": [
    "PATCH_SIZE = 4\n",
    "patch_num  = 100000\n",
    "STRIDE     = 2\n",
    "\n",
    "kroot = 16\n",
    "k = kroot **2"
   ]
  },
  {
   "cell_type": "code",
   "execution_count": 10,
   "metadata": {
    "id": "2-Ug1JOeS5aC"
   },
   "outputs": [],
   "source": [
    "def contrast(image):\n",
    "    return (image-image.min())/(image.max() - image.min())\n",
    "\n",
    "def normalize_patch(patch, eps=10):\n",
    "    return (patch - patch.mean())/np.sqrt(patch.var() + eps)\n",
    "\n",
    "def whiten(X):\n",
    "    X_norm = (X - X.mean(axis=0))/X.std(axis=0)\n",
    "    cov = np.cov(X_norm, rowvar=False) \n",
    "    U,S,V = np.linalg.svd(cov)\n",
    "\n",
    "    X_zca = U.dot(np.diag(1.0/np.sqrt(S + 0.1))).dot(U.T).dot(X_norm.T).T\n",
    "    return X_zca"
   ]
  },
  {
   "cell_type": "code",
   "execution_count": 11,
   "metadata": {},
   "outputs": [],
   "source": [
    "def run_cached(fun, data, name):\n",
    "    if exists(join('cache', f'{name}')):\n",
    "        print (f\"Found cached {name}, load it ? \")\n",
    "        flag = input()\n",
    "        if flag == 'y':\n",
    "            with open(join('cache', f'{name}'), 'rb') as f:\n",
    "                res = pickle.load(f)\n",
    "        else:\n",
    "            res = fun(data)\n",
    "    else:\n",
    "        res = fun(data)\n",
    "        \n",
    "    with open(join('cache', f'{name}'), 'wb') as f:\n",
    "        pickle.dump(res, f)\n",
    "    return res    "
   ]
  },
  {
   "cell_type": "code",
   "execution_count": 12,
   "metadata": {
    "id": "Fh1an_UgS5aI"
   },
   "outputs": [
    {
     "name": "stdout",
     "output_type": "stream",
     "text": [
      "Found cached P_zca, load it ? \n"
     ]
    },
    {
     "name": "stdin",
     "output_type": "stream",
     "text": [
      " n\n"
     ]
    },
    {
     "data": {
      "application/vnd.jupyter.widget-view+json": {
       "model_id": "d42b655661034e81a260cb294c732eca",
       "version_major": 2,
       "version_minor": 0
      },
      "text/plain": [
       "  0%|          | 0/119 [00:00<?, ?it/s]"
      ]
     },
     "metadata": {},
     "output_type": "display_data"
    }
   ],
   "source": [
    "def extract_patches(data):\n",
    "    patches = []\n",
    "    reshaped = data.reshape(-1,32,32,3)\n",
    "    n = int(patch_num / (32-PATCH_SIZE+1) ** 2 + 1)\n",
    "    for i in tqdm(range(n)):\n",
    "        for r in range(32-PATCH_SIZE+1):\n",
    "            for c in range(32-PATCH_SIZE+1):\n",
    "                patch = reshaped[i][c:(c+PATCH_SIZE),r:(r+PATCH_SIZE)].flatten()\n",
    "                patch_norm = normalize_patch(patch, eps=10)\n",
    "                patches.append(patch_norm)\n",
    "\n",
    "    P = np.vstack(patches)\n",
    "    return whiten(P)\n",
    "\n",
    "P_zca = run_cached(extract_patches, X_trn, 'P_zca')"
   ]
  },
  {
   "cell_type": "markdown",
   "metadata": {},
   "source": [
    "# Clusters"
   ]
  },
  {
   "cell_type": "code",
   "execution_count": 13,
   "metadata": {
    "colab": {
     "base_uri": "https://localhost:8080/"
    },
    "id": "zR_rrRlf7YfL",
    "outputId": "5aeaa079-7667-45c6-ae17-4c9510a9d443",
    "tags": []
   },
   "outputs": [
    {
     "name": "stdout",
     "output_type": "stream",
     "text": [
      "Found cached kmeans, load it ? \n"
     ]
    },
    {
     "name": "stdin",
     "output_type": "stream",
     "text": [
      " n\n"
     ]
    },
    {
     "name": "stdout",
     "output_type": "stream",
     "text": [
      "Init 1/1 with method k-means++\n",
      "Inertia for init 1/1: 464293.31214837474\n",
      "[MiniBatchKMeans] Reassigning 9 cluster centers.\n",
      "Minibatch step 1/2001: mean batch inertia: 15.289827925229824\n",
      "[MiniBatchKMeans] Reassigning 5 cluster centers.\n",
      "Minibatch step 2/2001: mean batch inertia: 13.727605240846321, ewa inertia: 13.727605240846321\n",
      "[MiniBatchKMeans] Reassigning 2 cluster centers.\n",
      "Minibatch step 3/2001: mean batch inertia: 13.380226780000829, ewa inertia: 13.658185084802058\n",
      "[MiniBatchKMeans] Reassigning 1 cluster centers.\n",
      "Minibatch step 4/2001: mean batch inertia: 13.386212753282651, ewa inertia: 13.60383409928659\n",
      "Minibatch step 5/2001: mean batch inertia: 13.501033655608396, ewa inertia: 13.583290445474002\n",
      "Minibatch step 6/2001: mean batch inertia: 13.220816082861106, ewa inertia: 13.51085352248981\n",
      "Minibatch step 7/2001: mean batch inertia: 13.114141724618827, ewa inertia: 13.431574586064755\n",
      "Minibatch step 8/2001: mean batch inertia: 13.122075001881795, ewa inertia: 13.369724149577355\n",
      "Minibatch step 9/2001: mean batch inertia: 13.06824212153576, ewa inertia: 13.309475942534672\n",
      "Minibatch step 10/2001: mean batch inertia: 13.002970901864833, ewa inertia: 13.248223936005928\n",
      "Minibatch step 11/2001: mean batch inertia: 13.06607692542293, ewa inertia: 13.211823654114843\n",
      "Minibatch step 12/2001: mean batch inertia: 13.395011608339264, ewa inertia: 13.248431958316367\n",
      "Minibatch step 13/2001: mean batch inertia: 12.921796738500847, ewa inertia: 13.183157134212546\n",
      "Minibatch step 14/2001: mean batch inertia: 12.893333386049623, ewa inertia: 13.125238719311882\n",
      "Minibatch step 15/2001: mean batch inertia: 12.995496349739982, ewa inertia: 13.099310987582887\n",
      "Minibatch step 16/2001: mean batch inertia: 13.24607596663234, ewa inertia: 13.128640519767032\n",
      "Minibatch step 17/2001: mean batch inertia: 12.848775438895983, ewa inertia: 13.072712246211667\n",
      "Minibatch step 18/2001: mean batch inertia: 13.103366999917021, ewa inertia: 13.078838296112817\n",
      "Minibatch step 19/2001: mean batch inertia: 13.072414434014327, ewa inertia: 13.07755455068946\n",
      "Minibatch step 20/2001: mean batch inertia: 13.051785003929012, ewa inertia: 13.072404761168986\n",
      "Minibatch step 21/2001: mean batch inertia: 13.144709740495722, ewa inertia: 13.086854197485282\n",
      "Minibatch step 22/2001: mean batch inertia: 13.019287555432651, ewa inertia: 13.073351671095867\n",
      "Minibatch step 23/2001: mean batch inertia: 13.024028516435836, ewa inertia: 13.063494925560292\n",
      "Minibatch step 24/2001: mean batch inertia: 13.008651310580806, ewa inertia: 13.05253497052842\n",
      "Minibatch step 25/2001: mean batch inertia: 12.936956190731616, ewa inertia: 13.02943769239157\n",
      "Minibatch step 26/2001: mean batch inertia: 13.008541559428352, ewa inertia: 13.025261806507634\n",
      "Minibatch step 27/2001: mean batch inertia: 13.041050870332803, ewa inertia: 13.02841709504184\n",
      "Minibatch step 28/2001: mean batch inertia: 12.9607127346193, ewa inertia: 13.01488704699577\n",
      "Minibatch step 29/2001: mean batch inertia: 13.087928362506972, ewa inertia: 13.029483632829345\n",
      "Minibatch step 30/2001: mean batch inertia: 13.035646774737632, ewa inertia: 13.03071527589655\n",
      "Minibatch step 31/2001: mean batch inertia: 12.981481168285315, ewa inertia: 13.020876325534594\n",
      "Minibatch step 32/2001: mean batch inertia: 12.782695973873851, ewa inertia: 12.973278333595998\n",
      "Minibatch step 33/2001: mean batch inertia: 12.798826387459938, ewa inertia: 12.938415834368168\n",
      "Minibatch step 34/2001: mean batch inertia: 12.818690430245734, ewa inertia: 12.914489894295741\n",
      "Minibatch step 35/2001: mean batch inertia: 12.970509755694549, ewa inertia: 12.92568491056249\n",
      "Minibatch step 36/2001: mean batch inertia: 12.88924317321326, ewa inertia: 12.918402389109806\n",
      "Minibatch step 37/2001: mean batch inertia: 12.864458781165041, ewa inertia: 12.907622291598864\n",
      "Minibatch step 38/2001: mean batch inertia: 13.012224716707967, ewa inertia: 12.928526053611076\n",
      "Minibatch step 39/2001: mean batch inertia: 12.89848786330213, ewa inertia: 12.922523217817922\n",
      "Minibatch step 40/2001: mean batch inertia: 12.844601839275061, ewa inertia: 12.906951399563953\n",
      "Minibatch step 41/2001: mean batch inertia: 13.035444895549343, ewa inertia: 12.932629556235694\n",
      "Minibatch step 42/2001: mean batch inertia: 12.884128356300833, ewa inertia: 12.922937070237522\n",
      "Minibatch step 43/2001: mean batch inertia: 12.901775825730487, ewa inertia: 12.918708204428764\n",
      "Minibatch step 44/2001: mean batch inertia: 12.832983197348632, ewa inertia: 12.90157690804984\n",
      "Minibatch step 45/2001: mean batch inertia: 13.020421240293107, ewa inertia: 12.92532677460525\n",
      "Minibatch step 46/2001: mean batch inertia: 12.795304093829586, ewa inertia: 12.899343025449442\n",
      "Minibatch step 47/2001: mean batch inertia: 12.99931884365618, ewa inertia: 12.919322205746552\n",
      "Minibatch step 48/2001: mean batch inertia: 12.898724919920996, ewa inertia: 12.915206041512828\n",
      "Minibatch step 49/2001: mean batch inertia: 12.828288983242595, ewa inertia: 12.897836525471615\n",
      "Minibatch step 50/2001: mean batch inertia: 13.09722572643204, ewa inertia: 12.937682488892964\n",
      "Minibatch step 51/2001: mean batch inertia: 12.931410503307925, ewa inertia: 12.936429094491478\n",
      "Minibatch step 52/2001: mean batch inertia: 12.894249969635672, ewa inertia: 12.928000012785681\n",
      "Minibatch step 53/2001: mean batch inertia: 12.999781965789673, ewa inertia: 12.942344927454744\n",
      "Minibatch step 54/2001: mean batch inertia: 12.84960475911327, ewa inertia: 12.923811720352132\n",
      "Minibatch step 55/2001: mean batch inertia: 12.93826776803321, ewa inertia: 12.926700618769614\n",
      "Minibatch step 56/2001: mean batch inertia: 12.921041809446688, ewa inertia: 12.925569761590772\n",
      "Minibatch step 57/2001: mean batch inertia: 13.168609593409707, ewa inertia: 12.9741388726657\n",
      "Minibatch step 58/2001: mean batch inertia: 13.106387768257136, ewa inertia: 13.00056750887502\n",
      "Minibatch step 59/2001: mean batch inertia: 12.771215101180358, ewa inertia: 12.954733694387679\n",
      "Converged (lack of improvement in inertia) at step 59/2001\n"
     ]
    }
   ],
   "source": [
    "from sklearn.cluster import KMeans, MiniBatchKMeans\n",
    "import numpy as np\n",
    "\n",
    "def centroids(data):\n",
    "    kmeans = MiniBatchKMeans(n_clusters=k, random_state=0, verbose=True, n_init=1, max_iter=200, batch_size=10000)\n",
    "    kmeans.fit(data)\n",
    "    return kmeans.cluster_centers_\n",
    "\n",
    "filters_final = run_cached(centroids, P_zca, 'kmeans')"
   ]
  },
  {
   "cell_type": "markdown",
   "metadata": {},
   "source": [
    "# Some intuition what the patches are"
   ]
  },
  {
   "cell_type": "code",
   "execution_count": 14,
   "metadata": {
    "colab": {
     "base_uri": "https://localhost:8080/",
     "height": 901
    },
    "id": "WxUoByYt86un",
    "outputId": "4e967e07-34f5-46a3-faad-2a50a77cc488"
   },
   "outputs": [
    {
     "data": {
      "image/png": "[encoded data removed]",
      "text/plain": [
       "<Figure size 1600x1600 with 128 Axes>"
      ]
     },
     "metadata": {},
     "output_type": "display_data"
    }
   ],
   "source": [
    "plt.figure(figsize=(kroot,kroot))\n",
    "for xx in range(128):\n",
    "    plt.subplot(kroot,kroot,xx+1)\n",
    "    plt.imshow((contrast(filters_final[xx])).reshape(PATCH_SIZE, PATCH_SIZE, 3))\n",
    "    plt.axis('off')"
   ]
  },
  {
   "cell_type": "markdown",
   "metadata": {
    "id": "qArR1kv7-j3H"
   },
   "source": [
    "# Transform dataset according to the patterns found in patches\n",
    "\n",
    "\n"
   ]
  },
  {
   "cell_type": "code",
   "execution_count": 15,
   "metadata": {
    "id": "_hIoR0m4-6jZ"
   },
   "outputs": [],
   "source": [
    "def dist(x,y):\n",
    "    return np.sqrt((x - y).dot(x-y))\n",
    "\n",
    "def create_patch_features(X):    \n",
    "    X_mapped_list_per_image = []\n",
    "    for i in tqdm(range(X.shape[0])):\n",
    "        mapped_features = []\n",
    "        for r in range(0, 32-PATCH_SIZE+1, STRIDE):\n",
    "            for c in range(0, 32-PATCH_SIZE+1, STRIDE):\n",
    "                patch = X[i].reshape(32,32,3)[c:(c+PATCH_SIZE),r:(r+PATCH_SIZE)].flatten()\n",
    "                patch_norm = normalize_patch(patch, eps=0.01)\n",
    "                mapped_features.append([dist(patch_norm, f) for f in filters_final])\n",
    "        X_mapped_list_per_image.append(np.vstack(mapped_features))\n",
    "    X_mapped = np.asarray(X_mapped_list_per_image).reshape(-1, ((32-PATCH_SIZE)//STRIDE+1)**2*filters_final.shape[0])\n",
    "    return X_mapped\n"
   ]
  },
  {
   "cell_type": "code",
   "execution_count": 16,
   "metadata": {
    "id": "OF9ryTgRS5aO"
   },
   "outputs": [],
   "source": [
    "from sklearn.feature_extraction import image\n",
    "from sklearn.metrics import pairwise_distances\n",
    "from sklearn.metrics.pairwise import euclidean_distances\n",
    "\n",
    "def create_patch_features__vectorized(X):    \n",
    "    X_mapped_list_per_image = []\n",
    "    for i in tqdm(range(X.shape[0])):\n",
    "        patches = image.extract_patches_2d(X[i], (PATCH_SIZE, PATCH_SIZE))\n",
    "        strided_patches = patches.reshape( 32-PATCH_SIZE+1 , 32-PATCH_SIZE+1, PATCH_SIZE, PATCH_SIZE, 3)[::STRIDE,::STRIDE,:,:,:]\n",
    "        strided_patches = strided_patches.reshape(((32-PATCH_SIZE)//STRIDE+1)**2, PATCH_SIZE * PATCH_SIZE * 3)\n",
    "        mapped_features = euclidean_distances(np.asarray([normalize_patch(patch, eps=0.01) for patch in strided_patches]), filters_final)\n",
    "        X_mapped_list_per_image.append(mapped_features.reshape(((32-PATCH_SIZE)//STRIDE+1)**2 * filters_final.shape[0]))\n",
    "    X_mapped = np.asarray(X_mapped_list_per_image)\n",
    "    return X_mapped"
   ]
  },
  {
   "cell_type": "code",
   "execution_count": 17,
   "metadata": {
    "colab": {
     "base_uri": "https://localhost:8080/"
    },
    "id": "Cm7-PrElCWp_",
    "outputId": "10a21f52-9390-4148-dbde-cd6c69b969a7"
   },
   "outputs": [
    {
     "name": "stdout",
     "output_type": "stream",
     "text": [
      "Found cached X_mapped_trn, load it ? \n"
     ]
    },
    {
     "name": "stdin",
     "output_type": "stream",
     "text": [
      " n\n"
     ]
    },
    {
     "data": {
      "application/vnd.jupyter.widget-view+json": {
       "model_id": "78772f246d424a4c8210c0a1008d64ec",
       "version_major": 2,
       "version_minor": 0
      },
      "text/plain": [
       "  0%|          | 0/50000 [00:00<?, ?it/s]"
      ]
     },
     "metadata": {},
     "output_type": "display_data"
    }
   ],
   "source": [
    "X_mapped_trn = run_cached(create_patch_features__vectorized, X_trn, 'X_mapped_trn')"
   ]
  },
  {
   "cell_type": "code",
   "execution_count": null,
   "metadata": {},
   "outputs": [
    {
     "name": "stdout",
     "output_type": "stream",
     "text": [
      "Found cached X_mapped_tst, load it ? \n"
     ]
    },
    {
     "name": "stdin",
     "output_type": "stream",
     "text": [
      " n\n"
     ]
    },
    {
     "data": {
      "application/vnd.jupyter.widget-view+json": {
       "model_id": "5ce26f079771426880a8c324218aaafb",
       "version_major": 2,
       "version_minor": 0
      },
      "text/plain": [
       "  0%|          | 0/10000 [00:00<?, ?it/s]"
      ]
     },
     "metadata": {},
     "output_type": "display_data"
    }
   ],
   "source": [
    "X_mapped_tst = run_cached(create_patch_features__vectorized, X_tst, 'X_mapped_tst')"
   ]
  },
  {
   "cell_type": "markdown",
   "metadata": {
    "id": "d4MpAk2xS5aS"
   },
   "source": [
    "# Logistic Regression on mapped features"
   ]
  },
  {
   "cell_type": "code",
   "execution_count": null,
   "metadata": {},
   "outputs": [],
   "source": [
    "def normalize(data):\n",
    "    return (data - data.mean(axis=0))/data.std(axis=0)"
   ]
  },
  {
   "cell_type": "code",
   "execution_count": null,
   "metadata": {
    "id": "pfs8qf8nS5aQ"
   },
   "outputs": [],
   "source": [
    "#X_mapped_trn_norm = run_cached(normalize, X_mapped_trn, \"X_mapped_trn_norm\")\n",
    "#X_mapped_tst_norm = run_cached(normalize, X_mapped_tst, \"X_mapped_tst_norm\")\n",
    "X_mapped_trn_norm = normalize(X_mapped_trn)\n",
    "X_mapped_tst_norm = normalize(X_mapped_trn)"
   ]
  },
  {
   "cell_type": "code",
   "execution_count": null,
   "metadata": {
    "colab": {
     "base_uri": "https://localhost:8080/"
    },
    "id": "3RtuWcy-S5aT",
    "outputId": "38c4e368-3610-471d-c3aa-b411d7781c71",
    "scrolled": true,
    "tags": []
   },
   "outputs": [
    {
     "name": "stdout",
     "output_type": "stream",
     "text": [
      "Found cached logreg, load it ? \n"
     ]
    },
    {
     "name": "stdin",
     "output_type": "stream",
     "text": [
      " n\n"
     ]
    },
    {
     "name": "stderr",
     "output_type": "stream",
     "text": [
      "[Parallel(n_jobs=-1)]: Using backend LokyBackend with 10 concurrent workers.\n"
     ]
    },
    {
     "name": "stdout",
     "output_type": "stream",
     "text": [
      "RUNNING THE L-BFGS-B CODE\n",
      "\n",
      "           * * *\n",
      "\n",
      "Machine precision = 2.220D-16\n",
      " N =       576010     M =           10\n",
      "\n",
      "At X0         0 variables are exactly at the bounds\n",
      "\n",
      "At iterate    0    f=  1.15129D+05    |proj g|=  5.10920D+03\n"
     ]
    },
    {
     "name": "stderr",
     "output_type": "stream",
     "text": [
      " This problem is unconstrained.\n"
     ]
    },
    {
     "name": "stdout",
     "output_type": "stream",
     "text": [
      "\n",
      "At iterate   50    f=  5.56773D+04    |proj g|=  8.15650D+02\n"
     ]
    }
   ],
   "source": [
    "from sklearn.linear_model import LogisticRegression\n",
    "\n",
    "def logreg(data):\n",
    "    x, y = data\n",
    "    clf = LogisticRegression(random_state=0, max_iter=100, n_jobs=-1, verbose=True)\n",
    "    clf.fit(x, y.flatten())\n",
    "    return clf\n",
    "\n",
    "clf = run_cached(logreg, (X_mapped_trn_norm, y_trn), 'logreg')"
   ]
  },
  {
   "cell_type": "markdown",
   "metadata": {},
   "source": [
    "# Results! 😊"
   ]
  },
  {
   "cell_type": "code",
   "execution_count": null,
   "metadata": {
    "colab": {
     "base_uri": "https://localhost:8080/"
    },
    "id": "esPqtlHSS5aU",
    "outputId": "cd063896-e55c-48b9-8de9-a74083c90ec2"
   },
   "outputs": [],
   "source": [
    "y_trn_pred = clf.predict(X_mapped_trn_norm)\n",
    "print(f\"Train: {(y_trn.flatten() == y_trn_pred).mean()}\")\n",
    "\n",
    "y_tst_pred = clf.predict(X_mapped_tst_norm)\n",
    "print(f\"Test:  {(y_tst.flatten() == y_tst_pred).mean()}\")\n"
   ]
  },
  {
   "cell_type": "code",
   "execution_count": null,
   "metadata": {},
   "outputs": [],
   "source": []
  }
 ],
 "metadata": {
  "colab": {
   "collapsed_sections": [],
   "include_colab_link": true,
   "machine_shape": "hm",
   "provenance": []
  },
  "kernelspec": {
   "display_name": "Python 3 (ipykernel)",
   "language": "python",
   "name": "python3"
  },
  "language_info": {
   "codemirror_mode": {
    "name": "ipython",
    "version": 3
   },
   "file_extension": ".py",
   "mimetype": "text/x-python",
   "name": "python",
   "nbconvert_exporter": "python",
   "pygments_lexer": "ipython3",
   "version": "3.10.9"
  }
 },
 "nbformat": 4,
 "nbformat_minor": 4
}
