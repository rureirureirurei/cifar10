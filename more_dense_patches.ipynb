{
 "cells": [
  {
   "cell_type": "markdown",
   "metadata": {
    "colab_type": "text",
    "id": "view-in-github"
   },
   "source": [
    "<a href=\"https://colab.research.google.com/github/marekpiotradamczyk/ml_uwr_22/blob/main/kmeans_deep_features.ipynb\" target=\"_parent\"><img src=\"https://colab.research.google.com/assets/colab-badge.svg\" alt=\"Open In Colab\"/></a>"
   ]
  },
  {
   "cell_type": "markdown",
   "metadata": {},
   "source": [
    "# How it differs from the default solution? \n",
    "\n",
    "More smaller patches and denser patches extraction from images.\n",
    "\n",
    "    PATCH_SIZE = 4\n",
    "    patch_num  = 5000000\n",
    "    STRIDE     = 2\n",
    "    \n",
    "Also, more clustsers:\n",
    "\n",
    "    kroot = 32\n",
    "    k = kroot * kroot\n",
    "    \n",
    "Note that it takes significant time to execute all steps"
   ]
  },
  {
   "cell_type": "markdown",
   "metadata": {},
   "source": [
    "# Load data & default imports"
   ]
  },
  {
   "cell_type": "code",
   "execution_count": 1,
   "metadata": {
    "id": "T36fIpVCGGAt",
    "tags": []
   },
   "outputs": [],
   "source": [
    "import os\n",
    "import sys\n",
    "import numpy as np\n",
    "import pandas as pd\n",
    "import scipy.stats as sstats\n",
    "from sklearn import datasets\n",
    "import sklearn.linear_model\n",
    "from tqdm.auto import tqdm\n",
    "from matplotlib import animation, pyplot, rc\n",
    "import matplotlib.pyplot as plt\n",
    "import httpimport\n",
    "from PIL import Image"
   ]
  },
  {
   "cell_type": "code",
   "execution_count": 2,
   "metadata": {
    "id": "f6je-NQf810D",
    "jupyter": {
     "source_hidden": true
    },
    "tags": []
   },
   "outputs": [],
   "source": [
    "!pip install -q gdown httpimport\n",
    "![ -e cifar.npz ] || gdown 'https://drive.google.com/uc?id=1oBzZdtg2zNTPGhbRy6DQ_wrf5L5OAhNR' -O cifar.npz"
   ]
  },
  {
   "cell_type": "code",
   "execution_count": 3,
   "metadata": {
    "id": "XVdY0QLv9dAv",
    "jupyter": {
     "source_hidden": true
    },
    "tags": []
   },
   "outputs": [],
   "source": [
    "with np.load('cifar.npz') as data:\n",
    "    cifar_train_data = data['train_data']\n",
    "    cifar_train_labels = data['train_labels']\n",
    "    cifar_test_data = data['test_data']\n",
    "    cifar_test_labels = data['test_labels']\n",
    "\n"
   ]
  },
  {
   "cell_type": "code",
   "execution_count": 4,
   "metadata": {
    "id": "GoayFo-HlVXf",
    "jupyter": {
     "source_hidden": true
    },
    "tags": []
   },
   "outputs": [],
   "source": [
    "X_trn = cifar_train_data\n",
    "y_trn = cifar_train_labels\n",
    "X_tst = cifar_test_data\n",
    "y_tst = cifar_test_labels"
   ]
  },
  {
   "cell_type": "markdown",
   "metadata": {
    "id": "krVBYnbQS5Z_"
   },
   "source": [
    "# Deep Features"
   ]
  },
  {
   "cell_type": "markdown",
   "metadata": {
    "id": "ifx-N_fsS5aA"
   },
   "source": [
    "## find important patterns in patches"
   ]
  },
  {
   "cell_type": "code",
   "execution_count": 5,
   "metadata": {
    "id": "2-Ug1JOeS5aC"
   },
   "outputs": [],
   "source": [
    "def contrast(image):\n",
    "    return (image-image.min())/(image.max() - image.min())\n",
    "\n",
    "def normalize_patch(patch, eps=10):\n",
    "    return (patch - patch.mean())/np.sqrt(patch.var() + eps)\n",
    "\n",
    "def whiten(X):\n",
    "    X_norm = (X - X.mean(axis=0))/X.std(axis=0)\n",
    "    cov = np.cov(X_norm, rowvar=False) \n",
    "    U,S,V = np.linalg.svd(cov)\n",
    "\n",
    "    X_zca = U.dot(np.diag(1.0/np.sqrt(S + 0.1))).dot(U.T).dot(X_norm.T).T\n",
    "    return X_zca"
   ]
  },
  {
   "cell_type": "code",
   "execution_count": 6,
   "metadata": {
    "id": "Y40Ue8kc2VmM"
   },
   "outputs": [],
   "source": [
    "PATCH_SIZE = 4        # SMALLLER PATCHES\n",
    "patch_num  = 5000000  # MORE PATCHES\n",
    "STRIDE     = 2        # SMALLER STRIDE, THEREFORE MORE DENSE COVER"
   ]
  },
  {
   "cell_type": "code",
   "execution_count": 7,
   "metadata": {
    "id": "Fh1an_UgS5aI"
   },
   "outputs": [
    {
     "data": {
      "application/vnd.jupyter.widget-view+json": {
       "model_id": "9d9295cba2c04cc0abf5e7ce9e8c8319",
       "version_major": 2,
       "version_minor": 0
      },
      "text/plain": [
       "  0%|          | 0/5946 [00:00<?, ?it/s]"
      ]
     },
     "metadata": {},
     "output_type": "display_data"
    }
   ],
   "source": [
    "patches = []\n",
    "\n",
    "X_trn_reshaped = X_trn.reshape(-1,32,32,3)\n",
    "\n",
    "n = int(patch_num / (32-PATCH_SIZE+1) ** 2 + 1)\n",
    "\n",
    "for i in tqdm(range(n)):\n",
    "    for r in range(32-PATCH_SIZE+1):\n",
    "        for c in range(32-PATCH_SIZE+1):\n",
    "            patch = X_trn_reshaped[i][c:(c+PATCH_SIZE),r:(r+PATCH_SIZE)].flatten()\n",
    "            patch_norm = normalize_patch(patch, eps=10)\n",
    "            patches.append(patch_norm)"
   ]
  },
  {
   "cell_type": "code",
   "execution_count": 8,
   "metadata": {
    "colab": {
     "base_uri": "https://localhost:8080/"
    },
    "id": "H6yZnvIL7ss3",
    "outputId": "21f380f1-0b73-44a7-eb72-86bdfe215809"
   },
   "outputs": [],
   "source": [
    "P = np.vstack(patches)\n",
    "P_zca = whiten(P)"
   ]
  },
  {
   "cell_type": "markdown",
   "metadata": {},
   "source": [
    "# Clusters"
   ]
  },
  {
   "cell_type": "code",
   "execution_count": 9,
   "metadata": {
    "id": "wPvJkqi89B9a"
   },
   "outputs": [],
   "source": [
    "kroot = 32\n",
    "k = kroot*kroot"
   ]
  },
  {
   "cell_type": "code",
   "execution_count": 10,
   "metadata": {
    "colab": {
     "base_uri": "https://localhost:8080/"
    },
    "id": "zR_rrRlf7YfL",
    "outputId": "5aeaa079-7667-45c6-ae17-4c9510a9d443",
    "tags": []
   },
   "outputs": [],
   "source": [
    "from sklearn.cluster import KMeans, MiniBatchKMeans\n",
    "import numpy as np\n",
    "kmeans = MiniBatchKMeans(n_clusters=k, random_state=0, verbose=False, n_init=1, max_iter=200, batch_size=10000)\n",
    "kmeans.fit(P_zca)\n",
    "filters_final = kmeans.cluster_centers_"
   ]
  },
  {
   "cell_type": "markdown",
   "metadata": {},
   "source": [
    "# Some intuition what the patches are"
   ]
  },
  {
   "cell_type": "code",
   "execution_count": 11,
   "metadata": {
    "colab": {
     "base_uri": "https://localhost:8080/",
     "height": 901
    },
    "id": "WxUoByYt86un",
    "outputId": "4e967e07-34f5-46a3-faad-2a50a77cc488"
   },
   "outputs": [
    {
     "data": {
      "image/png": "[encoded data removed]",
      "text/plain": [
       "<Figure size 3200x3200 with 128 Axes>"
      ]
     },
     "metadata": {},
     "output_type": "display_data"
    }
   ],
   "source": [
    "plt.figure(figsize=(kroot,kroot))\n",
    "for xx in range(128):\n",
    "    plt.subplot(kroot,kroot,xx+1)\n",
    "    plt.imshow((contrast(filters_final[xx])).reshape(PATCH_SIZE, PATCH_SIZE, 3))\n",
    "    plt.axis('off')\n",
    "    "
   ]
  },
  {
   "cell_type": "markdown",
   "metadata": {
    "id": "qArR1kv7-j3H"
   },
   "source": [
    "# Transform dataset according to the patterns found in patches\n",
    "\n",
    "\n"
   ]
  },
  {
   "cell_type": "code",
   "execution_count": 12,
   "metadata": {
    "id": "_hIoR0m4-6jZ"
   },
   "outputs": [],
   "source": [
    "def dist(x,y):\n",
    "    return np.sqrt((x - y).dot(x-y))\n",
    "\n",
    "def create_patch_features(X):    \n",
    "    X_mapped_list_per_image = []\n",
    "    for i in tqdm(range(X.shape[0])):\n",
    "        mapped_features = []\n",
    "        for r in range(0, 32-PATCH_SIZE+1, STRIDE):\n",
    "            for c in range(0, 32-PATCH_SIZE+1, STRIDE):\n",
    "                patch = X[i].reshape(32,32,3)[c:(c+PATCH_SIZE),r:(r+PATCH_SIZE)].flatten()\n",
    "                patch_norm = normalize_patch(patch, eps=0.01)\n",
    "                mapped_features.append([dist(patch_norm, f) for f in filters_final])\n",
    "        X_mapped_list_per_image.append(np.vstack(mapped_features))\n",
    "    X_mapped = np.asarray(X_mapped_list_per_image).reshape(-1, ((32-PATCH_SIZE)//STRIDE+1)**2*filters_final.shape[0])\n",
    "    return X_mapped\n"
   ]
  },
  {
   "cell_type": "code",
   "execution_count": 13,
   "metadata": {
    "id": "OF9ryTgRS5aO"
   },
   "outputs": [],
   "source": [
    "from sklearn.feature_extraction import image\n",
    "from sklearn.metrics import pairwise_distances\n",
    "from sklearn.metrics.pairwise import euclidean_distances\n",
    "\n",
    "def create_patch_features__vectorized(X):    \n",
    "    X_mapped_list_per_image = []\n",
    "    for i in tqdm(range(X.shape[0])):\n",
    "        patches = image.extract_patches_2d(X[i], (PATCH_SIZE, PATCH_SIZE))\n",
    "        strided_patches = patches.reshape( 32-PATCH_SIZE+1 , 32-PATCH_SIZE+1, PATCH_SIZE, PATCH_SIZE, 3)[::STRIDE,::STRIDE,:,:,:]\n",
    "        strided_patches = strided_patches.reshape(((32-PATCH_SIZE)//STRIDE+1)**2, PATCH_SIZE * PATCH_SIZE * 3)\n",
    "        mapped_features = euclidean_distances(np.asarray([normalize_patch(patch, eps=0.01) for patch in strided_patches]), filters_final)\n",
    "        X_mapped_list_per_image.append(mapped_features.reshape(((32-PATCH_SIZE)//STRIDE+1)**2 * filters_final.shape[0]))\n",
    "    X_mapped = np.asarray(X_mapped_list_per_image)\n",
    "    return X_mapped"
   ]
  },
  {
   "cell_type": "code",
   "execution_count": null,
   "metadata": {
    "colab": {
     "base_uri": "https://localhost:8080/"
    },
    "id": "Cm7-PrElCWp_",
    "outputId": "10a21f52-9390-4148-dbde-cd6c69b969a7"
   },
   "outputs": [
    {
     "data": {
      "application/vnd.jupyter.widget-view+json": {
       "model_id": "94be870486194c52bce058a577067517",
       "version_major": 2,
       "version_minor": 0
      },
      "text/plain": [
       "  0%|          | 0/50000 [00:00<?, ?it/s]"
      ]
     },
     "metadata": {},
     "output_type": "display_data"
    }
   ],
   "source": [
    "X_mapped_trn = create_patch_features__vectorized(X_trn)\n",
    "X_mapped_tst = create_patch_features__vectorized(X_tst)"
   ]
  },
  {
   "cell_type": "markdown",
   "metadata": {
    "id": "d4MpAk2xS5aS"
   },
   "source": [
    "# Logistic Regression on mapped features"
   ]
  },
  {
   "cell_type": "code",
   "execution_count": null,
   "metadata": {
    "id": "pfs8qf8nS5aQ"
   },
   "outputs": [],
   "source": [
    "X_mapped_trn_norm = (X_mapped_trn - X_mapped_trn.mean(axis=0))/X_mapped_trn.std(axis=0)\n",
    "X_mapped_tst_norm = (X_mapped_tst - X_mapped_trn.mean(axis=0))/X_mapped_trn.std(axis=0)"
   ]
  },
  {
   "cell_type": "code",
   "execution_count": null,
   "metadata": {
    "colab": {
     "base_uri": "https://localhost:8080/"
    },
    "id": "3RtuWcy-S5aT",
    "outputId": "38c4e368-3610-471d-c3aa-b411d7781c71",
    "scrolled": true,
    "tags": []
   },
   "outputs": [],
   "source": [
    "from sklearn.linear_model import LogisticRegression\n",
    "clf = LogisticRegression(random_state=0, max_iter=10, n_jobs=-1, verbose=False).fit(X_mapped_trn_norm, y_trn.flatten())"
   ]
  },
  {
   "cell_type": "markdown",
   "metadata": {},
   "source": [
    "# Results! 😊"
   ]
  },
  {
   "cell_type": "code",
   "execution_count": null,
   "metadata": {
    "colab": {
     "base_uri": "https://localhost:8080/"
    },
    "id": "esPqtlHSS5aU",
    "outputId": "cd063896-e55c-48b9-8de9-a74083c90ec2"
   },
   "outputs": [],
   "source": [
    "y_trn_pred = clf.predict(X_mapped_trn_norm)\n",
    "print(f\"Train: {(y_trn.flatten() == y_trn_pred).mean()}\")\n",
    "\n",
    "y_tst_pred = clf.predict(X_mapped_tst_norm)\n",
    "print(f\"Test:  {(y_tst.flatten() == y_tst_pred).mean()}\")\n"
   ]
  },
  {
   "cell_type": "code",
   "execution_count": null,
   "metadata": {},
   "outputs": [],
   "source": []
  }
 ],
 "metadata": {
  "colab": {
   "collapsed_sections": [],
   "include_colab_link": true,
   "machine_shape": "hm",
   "provenance": []
  },
  "kernelspec": {
   "display_name": "Python 3 (ipykernel)",
   "language": "python",
   "name": "python3"
  },
  "language_info": {
   "codemirror_mode": {
    "name": "ipython",
    "version": 3
   },
   "file_extension": ".py",
   "mimetype": "text/x-python",
   "name": "python",
   "nbconvert_exporter": "python",
   "pygments_lexer": "ipython3",
   "version": "3.10.9"
  }
 },
 "nbformat": 4,
 "nbformat_minor": 4
}
